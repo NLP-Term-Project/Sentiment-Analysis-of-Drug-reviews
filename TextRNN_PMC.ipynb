{
  "nbformat": 4,
  "nbformat_minor": 0,
  "metadata": {
    "colab": {
      "name": "TextRNN_PMC",
      "provenance": [],
      "collapsed_sections": []
    },
    "kernelspec": {
      "name": "python3",
      "display_name": "Python 3"
    },
    "accelerator": "GPU"
  },
  "cells": [
    {
      "cell_type": "code",
      "metadata": {
        "id": "DzidUQpqj4z5",
        "colab_type": "code",
        "outputId": "19e5cfc8-5c83-4056-ea57-c6d25b1bf536",
        "colab": {
          "base_uri": "https://localhost:8080/",
          "height": 781
        }
      },
      "source": [
        "!wget nlp.stanford.edu/data/glove.6B.zip\n",
        "!unzip glove.6B.zip\n",
        "!wget https://archive.ics.uci.edu/ml/machine-learning-databases/00462/drugsCom_raw.zip\n",
        "!wget http://evexdb.org/pmresources/vec-space-models/PMC-w2v.bin\n",
        "!unzip drugsCom_raw.zip\n",
        "!rm *.zip\n",
        "!ls"
      ],
      "execution_count": 0,
      "outputs": [
        {
          "output_type": "stream",
          "text": [
            "--2019-11-14 17:51:00--  http://nlp.stanford.edu/data/glove.6B.zip\n",
            "Resolving nlp.stanford.edu (nlp.stanford.edu)... 171.64.67.140\n",
            "Connecting to nlp.stanford.edu (nlp.stanford.edu)|171.64.67.140|:80... connected.\n",
            "HTTP request sent, awaiting response... 302 Found\n",
            "Location: https://nlp.stanford.edu/data/glove.6B.zip [following]\n",
            "--2019-11-14 17:51:01--  https://nlp.stanford.edu/data/glove.6B.zip\n",
            "Connecting to nlp.stanford.edu (nlp.stanford.edu)|171.64.67.140|:443... connected.\n",
            "HTTP request sent, awaiting response... 301 Moved Permanently\n",
            "Location: http://downloads.cs.stanford.edu/nlp/data/glove.6B.zip [following]\n",
            "--2019-11-14 17:51:01--  http://downloads.cs.stanford.edu/nlp/data/glove.6B.zip\n",
            "Resolving downloads.cs.stanford.edu (downloads.cs.stanford.edu)... 171.64.64.22\n",
            "Connecting to downloads.cs.stanford.edu (downloads.cs.stanford.edu)|171.64.64.22|:80... connected.\n",
            "HTTP request sent, awaiting response... 200 OK\n",
            "Length: 862182613 (822M) [application/zip]\n",
            "Saving to: ‘glove.6B.zip’\n",
            "\n",
            "glove.6B.zip        100%[===================>] 822.24M  1.93MB/s    in 6m 30s  \n",
            "\n",
            "2019-11-14 17:57:32 (2.11 MB/s) - ‘glove.6B.zip’ saved [862182613/862182613]\n",
            "\n",
            "Archive:  glove.6B.zip\n",
            "  inflating: glove.6B.50d.txt        \n",
            "  inflating: glove.6B.100d.txt       \n",
            "  inflating: glove.6B.200d.txt       \n",
            "  inflating: glove.6B.300d.txt       \n",
            "--2019-11-14 17:57:59--  https://archive.ics.uci.edu/ml/machine-learning-databases/00462/drugsCom_raw.zip\n",
            "Resolving archive.ics.uci.edu (archive.ics.uci.edu)... 128.195.10.252\n",
            "Connecting to archive.ics.uci.edu (archive.ics.uci.edu)|128.195.10.252|:443... connected.\n",
            "HTTP request sent, awaiting response... 200 OK\n",
            "Length: 42989872 (41M) [application/x-httpd-php]\n",
            "Saving to: ‘drugsCom_raw.zip’\n",
            "\n",
            "drugsCom_raw.zip    100%[===================>]  41.00M  14.7MB/s    in 2.8s    \n",
            "\n",
            "2019-11-14 17:58:03 (14.7 MB/s) - ‘drugsCom_raw.zip’ saved [42989872/42989872]\n",
            "\n",
            "Archive:  drugsCom_raw.zip\n",
            "  inflating: drugsComTest_raw.tsv    \n",
            "  inflating: drugsComTrain_raw.tsv   \n",
            "drugsComTest_raw.tsv   glove.6B.100d.txt  glove.6B.300d.txt  sample_data\n",
            "drugsComTrain_raw.tsv  glove.6B.200d.txt  glove.6B.50d.txt\n"
          ],
          "name": "stdout"
        }
      ]
    },
    {
      "cell_type": "code",
      "metadata": {
        "id": "7KkQWMli4T9b",
        "colab_type": "code",
        "colab": {}
      },
      "source": [
        "!mkdir data"
      ],
      "execution_count": 0,
      "outputs": []
    },
    {
      "cell_type": "code",
      "metadata": {
        "id": "47WRDurvor3S",
        "colab_type": "code",
        "outputId": "ae3009a2-4ab0-481b-f1e1-95b73d4498a8",
        "colab": {
          "base_uri": "https://localhost:8080/",
          "height": 52
        }
      },
      "source": [
        "import numpy as np\n",
        "import pandas as pd\n",
        "import keras\n",
        "from keras.preprocessing.text import Tokenizer,  text_to_word_sequence\n",
        "from keras.layers import Embedding, Input, Dense, LSTM,Bidirectional\n",
        "from keras import backend as K\n",
        "from keras.models import Model\n",
        "import nltk\n",
        "from gensim.models import KeyedVectors\n",
        "nltk.download('stopwords')\n",
        "from sklearn.metrics import accuracy_score, f1_score\n",
        "import re\n",
        "from keras import regularizers\n",
        "import tensorflow as tf\n",
        "from nltk import tokenize\n",
        "from nltk.corpus import stopwords\n",
        "from keras.callbacks import EarlyStopping,ModelCheckpoint\n",
        "from random import shuffle\n",
        "from keras.models import load_model\n",
        "%tensorflow_version 1.x"
      ],
      "execution_count": 0,
      "outputs": [
        {
          "output_type": "stream",
          "text": [
            "[nltk_data] Downloading package stopwords to /root/nltk_data...\n",
            "[nltk_data]   Package stopwords is already up-to-date!\n"
          ],
          "name": "stdout"
        }
      ]
    },
    {
      "cell_type": "code",
      "metadata": {
        "id": "-THSB8bSoyes",
        "colab_type": "code",
        "colab": {}
      },
      "source": [
        "MAX_FEATURES=200000\n",
        "MAX_SENT_LEN=100\n",
        "EMBED_SIZE=50\n",
        "NUM_EPOCHS=25\n",
        "REG_PARAM = 1e-13\n",
        "OUTPUT_DIM = 3"
      ],
      "execution_count": 0,
      "outputs": []
    },
    {
      "cell_type": "code",
      "metadata": {
        "id": "UY9cx4QhH5HG",
        "colab_type": "code",
        "colab": {}
      },
      "source": [
        "class DataGenerator(keras.utils.Sequence):\n",
        "    'Generates data for Keras'\n",
        "    def __init__(self, list_IDs, labels, batch_size=32, dim=(32,32,32),\n",
        "                 n_classes=3, shuffle=True):\n",
        "        'Initialization'\n",
        "        self.dim = dim\n",
        "        self.batch_size = batch_size\n",
        "        self.labels = labels\n",
        "        self.list_IDs = list_IDs\n",
        "        self.n_classes = n_classes\n",
        "        self.shuffle = shuffle\n",
        "        self.on_epoch_end()\n",
        "\n",
        "    def __len__(self):\n",
        "        'Denotes the number of batches per epoch'\n",
        "        return int(np.floor(len(self.list_IDs) / self.batch_size))\n",
        "\n",
        "    def __getitem__(self, index):\n",
        "        'Generate one batch of data'\n",
        "        # Generate indexes of the batch\n",
        "        indexes = self.indexes[index*self.batch_size:(index+1)*self.batch_size]\n",
        "\n",
        "        # Find list of IDs\n",
        "        list_IDs_temp = [self.list_IDs[k] for k in indexes]\n",
        "\n",
        "        # Generate data\n",
        "        X, y = self.__data_generation(list_IDs_temp)\n",
        "\n",
        "        return X, y\n",
        "\n",
        "    def on_epoch_end(self):\n",
        "        'Updates indexes after each epoch'\n",
        "        self.indexes = np.arange(len(self.list_IDs))\n",
        "        if self.shuffle == True:\n",
        "            np.random.shuffle(self.indexes)\n",
        "\n",
        "    def __data_generation(self, list_IDs_temp):\n",
        "        'Generates data containing batch_size samples' # X : (n_samples, *dim)\n",
        "        # Initialization\n",
        "        X = np.empty((self.batch_size, *self.dim))\n",
        "        y = np.empty((self.batch_size), dtype=int)\n",
        "\n",
        "        # Generate data\n",
        "        for i, ID in enumerate(list_IDs_temp):\n",
        "            # Store sample\n",
        "            X[i,] = np.load('data/out' + str(ID) + '.npy').reshape(MAX_SENT_NUM,MAX_SENT_LEN)\n",
        "\n",
        "            # Store class\n",
        "            y[i] = self.labels[ID]\n",
        "\n",
        "        return X, keras.utils.to_categorical(y, num_classes=self.n_classes)"
      ],
      "execution_count": 0,
      "outputs": []
    },
    {
      "cell_type": "code",
      "metadata": {
        "id": "3yyT1Axjo4NH",
        "colab_type": "code",
        "colab": {}
      },
      "source": [
        "def create_embed():\n",
        "  embed_model = KeyedVectors.load_word2vec_format('PMC-w2v.bin',binary=True)\n",
        "  return embed_model.get_keras_embedding(train_embeddings=False)"
      ],
      "execution_count": 0,
      "outputs": []
    },
    {
      "cell_type": "code",
      "metadata": {
        "id": "LVt2E1Zmo_kZ",
        "colab_type": "code",
        "colab": {}
      },
      "source": [
        "def load_data(mode='train'):\n",
        "    if mode=='train':\n",
        "        df = pd.read_csv('drugsComTrain_raw.tsv',sep='\\t')\n",
        "        to_remove = np.random.choice(df[df['rating']>=7].index,size=92510,replace=False)\n",
        "        df = df.drop(to_remove).reset_index()\n",
        "        to_remove = np.random.choice(df[df['rating']<=4].index,size=25719,replace=False)\n",
        "        df = df.drop(to_remove).reset_index()\n",
        "        if OUTPUT_DIM==3:\n",
        "          df = df.replace(to_replace={1:'negative',2:'negative',3:'negative',4:'negative',5:'neutral',6:'neutral',7:'positive',8:'positive',9:'positive',10:'positive'})\n",
        "          df = df.replace(to_replace={'positive':2,'neutral':1,'negative':0})\n",
        "        return pd.DataFrame(df['review']),df['rating'].to_numpy()\n",
        "    if mode=='test':\n",
        "        df = pd.read_csv('drugsComTest_raw.tsv', sep='\\t')\n",
        "        if OUTPUT_DIM==3:\n",
        "          df = df.replace(to_replace={1:'negative',2:'negative',3:'negative',4:'negative',5:'neutral',6:'neutral',7:'positive',8:'positive',9:'positive',10:'positive'})\n",
        "          df = df.replace(to_replace={'positive':2,'neutral':1,'negative':0})\n",
        "        return pd.DataFrame(df['review']), pd.get_dummies(df['rating']).to_numpy()"
      ],
      "execution_count": 0,
      "outputs": []
    },
    {
      "cell_type": "code",
      "metadata": {
        "id": "KgifMn04pP2S",
        "colab_type": "code",
        "colab": {}
      },
      "source": [
        "def clean_str(string):\n",
        "    \"\"\"\n",
        "    Tokenization/string cleaning for dataset\n",
        "    Every dataset is lower cased except\n",
        "    \"\"\"\n",
        "    st_w = ['ourselves', 'hers', 'between', 'yourself', 'again', 'there', 'about', 'once', 'during', 'out',\n",
        "            'having', 'with', 'they', 'own', 'an', 'be', 'some', 'for','its', 'yours', 'such', 'into', 'of', \n",
        "            'itself', 'other', 'is', 's', 'am', 'or', 'who', 'as', 'from', 'him', 'each', 'the', 'themselves', 'until', \n",
        "            'below',  'we', 'these', 'your', 'his', 'through', 'me', 'were', 'her',  'himself', \n",
        "            'this', 'down',  'our', 'their', 'while', 'above', 'both', 'up', 'to', 'ours', 'she', 'all', \n",
        "             'when', 'at', 'any', 'before', 'them', 'same', 'and', 'been', 'have', 'in', 'will', 'on',  \n",
        "            'yourselves', 'then', 'that', 'what', 'over', 'why', 'so', 'now', 'under', \n",
        "            'he', 'you', 'herself', 'just', 'where', 'too', 'only', 'myself', 'which', 'those', 'i', 'after', \n",
        "            'few', 'whom', 'being', 'if', 'theirs', 'my',  'a', 'by', 'doing', 'it', 'how',  'here', 'than']\n",
        "    try:\n",
        "        string = re.sub(r\"\\\\\", \"\", string)    \n",
        "        string = re.sub(r\"\\'\", \"\", string)    \n",
        "        string = re.sub(r\"\\\"\", \"\", string) \n",
        "        string = re.sub(r\"&#039;\", \"'\",string)\n",
        "        string = re.sub(r\"\\r\",\"\",string)\n",
        "        string = re.sub(r\"\\n\",\"\",string)\n",
        "        string = string.split()\n",
        "        string = ' '.join([w for w in string if w not in st_w])\n",
        "    except:\n",
        "        print(string)\n",
        "    return string.strip().lower()"
      ],
      "execution_count": 0,
      "outputs": []
    },
    {
      "cell_type": "code",
      "metadata": {
        "id": "KNI-aRYEpRgT",
        "colab_type": "code",
        "colab": {}
      },
      "source": [
        "texts = []\n",
        "train,labels = load_data('train')\n",
        "for idx in range(train['review'].shape[0]):\n",
        "    text = clean_str(train['review'][idx])\n",
        "    texts.append(text)"
      ],
      "execution_count": 0,
      "outputs": []
    },
    {
      "cell_type": "code",
      "metadata": {
        "id": "rDYZyqZwpTCp",
        "colab_type": "code",
        "colab": {}
      },
      "source": [
        "tokenizer = Tokenizer(num_words=MAX_FEATURES, oov_token=True)\n",
        "tokenizer.fit_on_texts(texts)"
      ],
      "execution_count": 0,
      "outputs": []
    },
    {
      "cell_type": "code",
      "metadata": {
        "id": "HjXioAxDpcec",
        "colab_type": "code",
        "colab": {}
      },
      "source": [
        "data = np.zeros((len(texts), MAX_SENT_LEN), dtype='int32')\n",
        "for i, sent in enumerate(texts):\n",
        "    wordTokens = text_to_word_sequence(sent)\n",
        "    k=0\n",
        "    for _, word in enumerate(wordTokens):\n",
        "        try:\n",
        "          if k<MAX_SENT_LEN:\n",
        "              data[i,k] = tokenizer.word_index[word]\n",
        "              k=k+1\n",
        "        except:\n",
        "              print(word)\n",
        "              pass\n",
        "for i in range(len(data)):\n",
        "  np.save(\"data/out\"+str(i),data[i])              "
      ],
      "execution_count": 0,
      "outputs": []
    },
    {
      "cell_type": "code",
      "metadata": {
        "id": "xaJZgQklph9_",
        "colab_type": "code",
        "outputId": "5228c397-6798-410f-d74e-cc81e6441268",
        "colab": {
          "base_uri": "https://localhost:8080/",
          "height": 384
        }
      },
      "source": [
        "l2_reg = regularizers.l2(REG_PARAM)\n",
        "word_index= tokenizer.word_index\n",
        "embedding_layer = create_embed()\n",
        "word_input = Input(shape=(MAX_SENT_LEN,), dtype='float32')\n",
        "word_sequences = embedding_layer(word_input)\n",
        "word_lstm = Bidirectional(LSTM(150, return_sequences=False, kernel_regularizer=l2_reg))(word_sequences)\n",
        "preds = Dense(OUTPUT_DIM,activation='softmax')(word_lstm)"
      ],
      "execution_count": 0,
      "outputs": [
        {
          "output_type": "stream",
          "text": [
            "/usr/local/lib/python3.6/dist-packages/smart_open/smart_open_lib.py:398: UserWarning: This function is deprecated, use smart_open.open instead. See the migration notes for details: https://github.com/RaRe-Technologies/smart_open/blob/master/README.rst#migrating-to-the-new-open-function\n",
            "  'See the migration notes for details: %s' % _MIGRATION_NOTES_URL\n"
          ],
          "name": "stderr"
        },
        {
          "output_type": "stream",
          "text": [
            "WARNING:tensorflow:From /usr/local/lib/python3.6/dist-packages/keras/backend/tensorflow_backend.py:66: The name tf.get_default_graph is deprecated. Please use tf.compat.v1.get_default_graph instead.\n",
            "\n",
            "WARNING:tensorflow:From /usr/local/lib/python3.6/dist-packages/keras/backend/tensorflow_backend.py:541: The name tf.placeholder is deprecated. Please use tf.compat.v1.placeholder instead.\n",
            "\n",
            "WARNING:tensorflow:From /usr/local/lib/python3.6/dist-packages/keras/backend/tensorflow_backend.py:4432: The name tf.random_uniform is deprecated. Please use tf.random.uniform instead.\n",
            "\n",
            "WARNING:tensorflow:From /usr/local/lib/python3.6/dist-packages/keras/backend/tensorflow_backend.py:190: The name tf.get_default_session is deprecated. Please use tf.compat.v1.get_default_session instead.\n",
            "\n",
            "WARNING:tensorflow:From /usr/local/lib/python3.6/dist-packages/keras/backend/tensorflow_backend.py:197: The name tf.ConfigProto is deprecated. Please use tf.compat.v1.ConfigProto instead.\n",
            "\n",
            "WARNING:tensorflow:From /usr/local/lib/python3.6/dist-packages/keras/backend/tensorflow_backend.py:203: The name tf.Session is deprecated. Please use tf.compat.v1.Session instead.\n",
            "\n",
            "WARNING:tensorflow:From /usr/local/lib/python3.6/dist-packages/keras/backend/tensorflow_backend.py:207: The name tf.global_variables is deprecated. Please use tf.compat.v1.global_variables instead.\n",
            "\n",
            "WARNING:tensorflow:From /usr/local/lib/python3.6/dist-packages/keras/backend/tensorflow_backend.py:216: The name tf.is_variable_initialized is deprecated. Please use tf.compat.v1.is_variable_initialized instead.\n",
            "\n",
            "WARNING:tensorflow:From /usr/local/lib/python3.6/dist-packages/keras/backend/tensorflow_backend.py:223: The name tf.variables_initializer is deprecated. Please use tf.compat.v1.variables_initializer instead.\n",
            "\n"
          ],
          "name": "stdout"
        }
      ]
    },
    {
      "cell_type": "code",
      "metadata": {
        "id": "0HaLmlewpj7e",
        "colab_type": "code",
        "outputId": "eb61bbb1-8a26-4d0c-d7a5-560c1ac47736",
        "colab": {
          "base_uri": "https://localhost:8080/",
          "height": 748
        }
      },
      "source": [
        "model = Model(word_input,preds)\n",
        "model.compile(loss='categorical_crossentropy',optimizer='adam',metrics=['acc'])\n",
        "earlystop = EarlyStopping(monitor='val_loss',min_delta=0,patience=50,verbose=0,restore_best_weights=True)\n",
        "checkpoint = ModelCheckpoint('textrnn.h5', verbose=0, monitor='val_loss',save_best_only=True, mode='auto') \n",
        "data_labels = list(zip(data,labels))\n",
        "shuffle(data_labels)\n",
        "data,labels = zip(*data_labels)\n",
        "data = np.array(data)\n",
        "labels = np.array(labels)\n",
        "history = model.fit(data[1000:5000],labels[1000:5000],validation_data=(data[:1000],labels[:1000]),epochs=20, batch_size=500)#,callbacks=[earlystop,checkpoint]"
      ],
      "execution_count": 0,
      "outputs": [
        {
          "output_type": "stream",
          "text": [
            "Train on 4000 samples, validate on 1000 samples\n",
            "Epoch 1/20\n",
            "4000/4000 [==============================] - 4s 974us/step - loss: 1.1785 - acc: 0.6108 - val_loss: 0.8511 - val_acc: 0.6610\n",
            "Epoch 2/20\n",
            "4000/4000 [==============================] - 3s 660us/step - loss: 0.8429 - acc: 0.6620 - val_loss: 0.8257 - val_acc: 0.6710\n",
            "Epoch 3/20\n",
            "4000/4000 [==============================] - 3s 653us/step - loss: 0.8098 - acc: 0.6652 - val_loss: 0.8003 - val_acc: 0.6850\n",
            "Epoch 4/20\n",
            "4000/4000 [==============================] - 3s 632us/step - loss: 0.7914 - acc: 0.6797 - val_loss: 0.7923 - val_acc: 0.6890\n",
            "Epoch 5/20\n",
            "4000/4000 [==============================] - 3s 667us/step - loss: 0.7758 - acc: 0.6873 - val_loss: 0.7877 - val_acc: 0.6900\n",
            "Epoch 6/20\n",
            "4000/4000 [==============================] - 3s 650us/step - loss: 0.7595 - acc: 0.6955 - val_loss: 0.7832 - val_acc: 0.6910\n",
            "Epoch 7/20\n",
            "4000/4000 [==============================] - 3s 649us/step - loss: 0.7492 - acc: 0.6998 - val_loss: 0.7773 - val_acc: 0.6870\n",
            "Epoch 8/20\n",
            "4000/4000 [==============================] - 3s 667us/step - loss: 0.7444 - acc: 0.6978 - val_loss: 0.7861 - val_acc: 0.6770\n",
            "Epoch 9/20\n",
            "4000/4000 [==============================] - 3s 661us/step - loss: 0.7302 - acc: 0.7063 - val_loss: 0.7683 - val_acc: 0.6900\n",
            "Epoch 10/20\n",
            "4000/4000 [==============================] - 3s 658us/step - loss: 0.7131 - acc: 0.7135 - val_loss: 0.7652 - val_acc: 0.6820\n",
            "Epoch 11/20\n",
            "4000/4000 [==============================] - 3s 657us/step - loss: 0.6945 - acc: 0.7158 - val_loss: 0.7667 - val_acc: 0.6900\n",
            "Epoch 12/20\n",
            "4000/4000 [==============================] - 3s 651us/step - loss: 0.6793 - acc: 0.7265 - val_loss: 0.8056 - val_acc: 0.6660\n",
            "Epoch 13/20\n",
            "4000/4000 [==============================] - 3s 642us/step - loss: 0.6860 - acc: 0.7157 - val_loss: 0.7757 - val_acc: 0.6930\n",
            "Epoch 14/20\n",
            "4000/4000 [==============================] - 3s 704us/step - loss: 0.6596 - acc: 0.7315 - val_loss: 0.8210 - val_acc: 0.6580\n",
            "Epoch 15/20\n",
            "4000/4000 [==============================] - 3s 660us/step - loss: 0.6469 - acc: 0.7385 - val_loss: 0.7669 - val_acc: 0.6910\n",
            "Epoch 16/20\n",
            "4000/4000 [==============================] - 3s 649us/step - loss: 0.6207 - acc: 0.7568 - val_loss: 0.8495 - val_acc: 0.6600\n",
            "Epoch 17/20\n",
            "4000/4000 [==============================] - 3s 636us/step - loss: 0.6057 - acc: 0.7555 - val_loss: 0.7988 - val_acc: 0.6740\n",
            "Epoch 18/20\n",
            "4000/4000 [==============================] - 3s 671us/step - loss: 0.5782 - acc: 0.7690 - val_loss: 0.8207 - val_acc: 0.6880\n",
            "Epoch 19/20\n",
            "4000/4000 [==============================] - 3s 667us/step - loss: 0.5516 - acc: 0.7810 - val_loss: 0.8785 - val_acc: 0.6610\n",
            "Epoch 20/20\n",
            "4000/4000 [==============================] - 3s 678us/step - loss: 0.5428 - acc: 0.7893 - val_loss: 0.8563 - val_acc: 0.6800\n"
          ],
          "name": "stdout"
        }
      ]
    },
    {
      "cell_type": "code",
      "metadata": {
        "id": "_duH9aH4sFtE",
        "colab_type": "code",
        "colab": {}
      },
      "source": [
        "test, test_labels = load_data('test')"
      ],
      "execution_count": 0,
      "outputs": []
    },
    {
      "cell_type": "code",
      "metadata": {
        "id": "CbYv3iRfZqgV",
        "colab_type": "code",
        "colab": {}
      },
      "source": [
        "test_texts=[]\n",
        "for idx in range(test['review'].shape[0]):\n",
        "    text = clean_str(test['review'][idx])\n",
        "    test_texts.append(text)\n",
        "\n",
        "test_data = np.zeros((len(test_texts), MAX_SENT_LEN), dtype='int32')\n",
        "for i, sent in enumerate(test_texts):\n",
        "    wordTokens = text_to_word_sequence(sent)\n",
        "    k=0\n",
        "    for _, word in enumerate(wordTokens):\n",
        "        try:\n",
        "            if k<MAX_SENT_LEN:\n",
        "                test_data[i,k] = tokenizer.word_index[word]\n",
        "                k=k+1\n",
        "        except:\n",
        "            # print(word)\n",
        "            pass"
      ],
      "execution_count": 0,
      "outputs": []
    },
    {
      "cell_type": "code",
      "metadata": {
        "id": "PMIIY8jrZsbf",
        "colab_type": "code",
        "outputId": "572f5fa3-b727-4d24-ea6f-112279ff0ba9",
        "colab": {
          "base_uri": "https://localhost:8080/",
          "height": 35
        }
      },
      "source": [
        "score = model.evaluate(test_data, test_labels, batch_size=500)"
      ],
      "execution_count": 0,
      "outputs": [
        {
          "output_type": "stream",
          "text": [
            "53766/53766 [==============================] - 12s 229us/step\n"
          ],
          "name": "stdout"
        }
      ]
    },
    {
      "cell_type": "code",
      "metadata": {
        "id": "mrqiaOCgZ0Hk",
        "colab_type": "code",
        "outputId": "fbe7caa2-affa-441f-89ce-3d484acf10c5",
        "colab": {
          "base_uri": "https://localhost:8080/",
          "height": 35
        }
      },
      "source": [
        "print(score)"
      ],
      "execution_count": 0,
      "outputs": [
        {
          "output_type": "stream",
          "text": [
            "[0.9142238375943974, 0.6731949540066656]\n"
          ],
          "name": "stdout"
        }
      ]
    },
    {
      "cell_type": "code",
      "metadata": {
        "id": "BGC4Wz9pZ1pn",
        "colab_type": "code",
        "colab": {}
      },
      "source": [
        "pred = model.predict(test_data,batch_size=1000)"
      ],
      "execution_count": 0,
      "outputs": []
    },
    {
      "cell_type": "code",
      "metadata": {
        "id": "K5UK9EHs0MY3",
        "colab_type": "code",
        "colab": {}
      },
      "source": [
        "from sklearn.metrics import accuracy_score, f1_score, confusion_matrix, classification_report\n",
        "pred_labels = np.argmax(pred,axis=1)\n",
        "act_labels = np.argmax(test_labels,axis=1)\n",
        "print('Acc: ',accuracy_score(act_labels,pred_labels))\n",
        "print('F1: ',f1_score(act_labels,pred_labels,average='weighted'))\n",
        "print(confusion_matrix(act_labels,pred_labels))\n",
        "print(classification_report(act_labels,pred_labels))"
      ],
      "execution_count": 0,
      "outputs": []
    }
  ]
}