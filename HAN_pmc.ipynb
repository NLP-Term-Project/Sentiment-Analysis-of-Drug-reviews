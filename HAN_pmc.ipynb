{
  "nbformat": 4,
  "nbformat_minor": 0,
  "metadata": {
    "colab": {
      "name": "HAN-pmc",
      "provenance": [],
      "collapsed_sections": [],
      "machine_shape": "hm"
    },
    "kernelspec": {
      "name": "python3",
      "display_name": "Python 3"
    },
    "accelerator": "GPU"
  },
  "cells": [
    {
      "cell_type": "code",
      "metadata": {
        "id": "MEjEVYoNxhBW",
        "colab_type": "code",
        "colab": {}
      },
      "source": [
        "!wget https://archive.ics.uci.edu/ml/machine-learning-databases/00462/drugsCom_raw.zip\n",
        "!wget http://evexdb.org/pmresources/vec-space-models/PMC-w2v.bin\n",
        "!unzip drugsCom_raw.zip\n",
        "!rm *.zip\n",
        "!ls"
      ],
      "execution_count": 0,
      "outputs": []
    },
    {
      "cell_type": "code",
      "metadata": {
        "id": "gsdtObr6ao83",
        "colab_type": "code",
        "colab": {}
      },
      "source": [
        "!mkdir data"
      ],
      "execution_count": 0,
      "outputs": []
    },
    {
      "cell_type": "code",
      "metadata": {
        "id": "IEF2IOOnY-qJ",
        "colab_type": "code",
        "colab": {}
      },
      "source": [
        "import pandas as pd\n",
        "import numpy as np\n",
        "import keras\n",
        "from keras.preprocessing.text import Tokenizer,  text_to_word_sequence\n",
        "from keras.engine.topology import Layer\n",
        "from keras import initializers as initializers, regularizers, constraints\n",
        "from keras.callbacks import Callback, ModelCheckpoint, EarlyStopping\n",
        "from keras.utils.np_utils import to_categorical\n",
        "from keras.layers import Embedding, Input, Dense, LSTM, GRU, Bidirectional, TimeDistributed, Dropout,Concatenate,Lambda\n",
        "from keras import backend as K\n",
        "from keras import optimizers\n",
        "from keras.utils import to_categorical\n",
        "from keras.models import Model,clone_model,load_model\n",
        "import tensorflow as tf\n",
        "import nltk\n",
        "nltk.download('popular')\n",
        "nltk.download('stopwords')\n",
        "import re\n",
        "import matplotlib.pyplot as plt\n",
        "import sys\n",
        "from nltk import tokenize\n",
        "import os\n",
        "from sklearn.metrics import accuracy_score, f1_score, confusion_matrix  \n",
        "from keras.backend.tensorflow_backend import set_session  \n",
        "from scipy.spatial.distance import euclidean\n",
        "from sklearn.neighbors import NearestNeighbors\n",
        "import random\n",
        "from nltk.corpus import stopwords\n",
        "from gensim.models.keyedvectors import KeyedVectors"
      ],
      "execution_count": 0,
      "outputs": []
    },
    {
      "cell_type": "code",
      "metadata": {
        "id": "JfL8vigkb71i",
        "colab_type": "code",
        "colab": {}
      },
      "source": [
        "MAX_FEATURES=200000\n",
        "MAX_SENT_LEN = 40\n",
        "MAX_SENT_NUM = 40\n",
        "EMBED_SIZE=100\n",
        "NUM_EPOCHS=25\n",
        "REG_PARAM = 1e-13\n",
        "OUTPUT_DIM = 3"
      ],
      "execution_count": 0,
      "outputs": []
    },
    {
      "cell_type": "code",
      "metadata": {
        "id": "XRPmx9CFb8qC",
        "colab_type": "code",
        "colab": {}
      },
      "source": [
        "def dot_product(x, kernel):\n",
        "    \"\"\"\n",
        "    Wrapper for dot product operation, in order to be compatibl|e with both\n",
        "    Theano and Tensorflow\n",
        "    Args:\n",
        "        x (): input\n",
        "        kernel (): weights\n",
        "    Returns:\n",
        "    \"\"\"\n",
        "    if K.backend() == 'tensorflow':\n",
        "        return K.squeeze(K.dot(x, K.expand_dims(kernel)), axis=-1)\n",
        "    else:\n",
        "        return K.dot(x, kernel)\n",
        "\n",
        "class AttentionWithContext(Layer):\n",
        "    \"\"\"\n",
        "    Attention operation, with a context/query vector, for temporal data.\n",
        "    Supports Masking.\n",
        "    Follows the work of Yang et al. [https://www.cs.cmu.edu/~diyiy/docs/naacl16.pdf]\n",
        "    \"Hierarchical Attention Networks for Document Classification\"\n",
        "    by using a context vector to assist the attention\n",
        "    # Input shape\n",
        "        3D tensor with shape: `(samples, steps, features)`.\n",
        "    # Output shape\n",
        "        2D tensor with shape: `(samples, features)`.\n",
        "    How to use:\n",
        "    Just put it on top of an RNN Layer (GRU/LSTM/SimpleRNN) with return_sequences=True.\n",
        "    The dimensions are inferred based on the output shape of the RNN.\n",
        "    Note: The layer has been tested with Keras 2.0.6\n",
        "    Example:\n",
        "        model.add(LSTM(64, return_sequences=True))\n",
        "        model.add(AttentionWithContext())\n",
        "        # next add a Dense layer (for classification/regression) or whatever...\n",
        "    \"\"\"\n",
        "\n",
        "    def __init__(self,\n",
        "                 W_regularizer=None, u_regularizer=None, b_regularizer=None,\n",
        "                 W_constraint=None, u_constraint=None, b_constraint=None,\n",
        "                 bias=True, **kwargs):\n",
        "\n",
        "        self.supports_masking = True\n",
        "        self.init = initializers.get('glorot_uniform')\n",
        "\n",
        "        self.W_regularizer = regularizers.get(W_regularizer)\n",
        "        self.u_regularizer = regularizers.get(u_regularizer)\n",
        "        self.b_regularizer = regularizers.get(b_regularizer)\n",
        "\n",
        "        self.W_constraint = constraints.get(W_constraint)\n",
        "        self.u_constraint = constraints.get(u_constraint)\n",
        "        self.b_constraint = constraints.get(b_constraint)\n",
        "\n",
        "        self.bias = bias\n",
        "        super(AttentionWithContext, self).__init__(**kwargs)\n",
        "\n",
        "    def build(self, input_shape):\n",
        "        assert len(input_shape) == 3\n",
        "\n",
        "        self.W = self.add_weight((input_shape[-1], input_shape[-1],),\n",
        "                                 initializer=self.init,\n",
        "                                 name='{}_W'.format(self.name),\n",
        "                                 regularizer=self.W_regularizer,\n",
        "                                 constraint=self.W_constraint)\n",
        "        if self.bias:\n",
        "            self.b = self.add_weight((input_shape[-1],),\n",
        "                                     initializer='zero',\n",
        "                                     name='{}_b'.format(self.name),\n",
        "                                     regularizer=self.b_regularizer,\n",
        "                                     constraint=self.b_constraint)\n",
        "\n",
        "        self.u = self.add_weight((input_shape[-1],),\n",
        "                                 initializer=self.init,\n",
        "                                 name='{}_u'.format(self.name),\n",
        "                                 regularizer=self.u_regularizer,\n",
        "                                 constraint=self.u_constraint)\n",
        "\n",
        "        super(AttentionWithContext, self).build(input_shape)\n",
        "\n",
        "    def compute_mask(self, input, input_mask=None):\n",
        "        # do not pass the mask to the next layers\n",
        "        return None\n",
        "\n",
        "    def call(self, x, mask=None):\n",
        "        uit = dot_product(x, self.W)\n",
        "\n",
        "        if self.bias:\n",
        "            uit += self.b\n",
        "\n",
        "        uit = K.tanh(uit)\n",
        "        ait = dot_product(uit, self.u)\n",
        "\n",
        "        a = K.exp(ait)\n",
        "\n",
        "        # apply mask after the exp. will be re-normalized next\n",
        "        if mask is not None:\n",
        "            # Cast the mask to floatX to avoid float64 upcasting in theano\n",
        "            a *= K.cast(mask, K.floatx())\n",
        "\n",
        "        # in some cases especially in the early stages of training the sum may be almost zero\n",
        "        # and this results in NaN's. A workaround is to add a very small positive number ε to the sum.\n",
        "        # a /= K.cast(K.sum(a, axis=1, keepdims=True), K.floatx())\n",
        "        a /= K.cast(K.sum(a, axis=1, keepdims=True) + K.epsilon(), K.floatx())\n",
        "\n",
        "        a = K.expand_dims(a)\n",
        "        weighted_input = x * a\n",
        "        return K.sum(weighted_input, axis=1)\n",
        "\n",
        "    def compute_output_shape(self, input_shape):\n",
        "        return input_shape[0], input_shape[-1]\n"
      ],
      "execution_count": 0,
      "outputs": []
    },
    {
      "cell_type": "code",
      "metadata": {
        "id": "7frnPInlXF3B",
        "colab_type": "code",
        "colab": {}
      },
      "source": [
        "class DataGenerator(keras.utils.Sequence):\n",
        "    'Generates data for Keras'\n",
        "    def __init__(self, list_IDs, labels, batch_size=32, dim=(32,32,32),\n",
        "                 n_classes=10, shuffle=True):\n",
        "        'Initialization'\n",
        "        self.dim = dim\n",
        "        self.batch_size = batch_size\n",
        "        self.labels = labels\n",
        "        self.list_IDs = list_IDs\n",
        "        self.n_classes = n_classes\n",
        "        self.shuffle = shuffle\n",
        "        self.on_epoch_end()\n",
        "\n",
        "    def __len__(self):\n",
        "        'Denotes the number of batches per epoch'\n",
        "        return int(np.floor(len(self.list_IDs) / self.batch_size))\n",
        "\n",
        "    def __getitem__(self, index):\n",
        "        'Generate one batch of data'\n",
        "        # Generate indexes of the batch\n",
        "        indexes = self.indexes[index*self.batch_size:(index+1)*self.batch_size]\n",
        "\n",
        "        # Find list of IDs\n",
        "        list_IDs_temp = [self.list_IDs[k] for k in indexes]\n",
        "\n",
        "        # Generate data\n",
        "        X, y = self.__data_generation(list_IDs_temp)\n",
        "\n",
        "        return X, y\n",
        "\n",
        "    def on_epoch_end(self):\n",
        "        'Updates indexes after each epoch'\n",
        "        self.indexes = np.arange(len(self.list_IDs))\n",
        "        if self.shuffle == True:\n",
        "            np.random.shuffle(self.indexes)\n",
        "\n",
        "    def __data_generation(self, list_IDs_temp):\n",
        "        'Generates data containing batch_size samples' # X : (n_samples, *dim)\n",
        "        # Initialization\n",
        "        X = np.empty((self.batch_size, *self.dim))\n",
        "        y = np.empty((self.batch_size), dtype=int)\n",
        "\n",
        "        # Generate data\n",
        "        for i, ID in enumerate(list_IDs_temp):\n",
        "            # Store sample\n",
        "            X[i,] = np.load('data/out' + str(ID) + '.npy').reshape(MAX_SENT_NUM,MAX_SENT_LEN)\n",
        "\n",
        "            # Store class\n",
        "            y[i] = self.labels[ID]\n",
        "\n",
        "        return X, keras.utils.to_categorical(y, num_classes=self.n_classes)"
      ],
      "execution_count": 0,
      "outputs": []
    },
    {
      "cell_type": "code",
      "metadata": {
        "id": "f7j31cFn8r7K",
        "colab_type": "code",
        "colab": {}
      },
      "source": [
        "def create_embed():\n",
        "  embed_model = KeyedVectors.load_word2vec_format('PMC-w2v.bin',binary=True)\n",
        "  return embed_model.get_keras_embedding(train_embeddings=False)"
      ],
      "execution_count": 0,
      "outputs": []
    },
    {
      "cell_type": "code",
      "metadata": {
        "id": "zs4eO9CDi9U1",
        "colab_type": "code",
        "colab": {}
      },
      "source": [
        "def load_data(mode='train'):\n",
        "    if mode=='train':\n",
        "        df = pd.read_csv('drugsComTrain_raw.tsv',sep='\\t')\n",
        "        to_remove = np.random.choice(df[df['rating']>=7].index,size=92510,replace=False)\n",
        "        df = df.drop(to_remove).reset_index()\n",
        "        to_remove = np.random.choice(df[df['rating']<=4].index,size=25719,replace=False)\n",
        "        df = df.drop(to_remove).reset_index()\n",
        "        if OUTPUT_DIM==3:\n",
        "          df = df.replace(to_replace={1:'negative',2:'negative',3:'negative',4:'negative',5:'neutral',6:'neutral',7:'positive',8:'positive',9:'positive',10:'positive'})\n",
        "          df = df.replace(to_replace={'positive':2,'neutral':1,'negative':0})\n",
        "        return pd.DataFrame(df['review']),df['rating'].to_numpy()\n",
        "    if mode=='test':\n",
        "        df = pd.read_csv('drugsComTest_raw.tsv', sep='\\t')\n",
        "        if OUTPUT_DIM==3:\n",
        "          df = df.replace(to_replace={1:'negative',2:'negative',3:'negative',4:'negative',5:'neutral',6:'neutral',7:'positive',8:'positive',9:'positive',10:'positive'})\n",
        "          df = df.replace(to_replace={'positive':2,'neutral':1,'negative':0})\n",
        "        return pd.DataFrame(df['review']), pd.get_dummies(df['rating']).to_numpy()"
      ],
      "execution_count": 0,
      "outputs": []
    },
    {
      "cell_type": "code",
      "metadata": {
        "id": "D86o0Q-7i_au",
        "colab_type": "code",
        "colab": {}
      },
      "source": [
        "def clean_str(string):\n",
        "    \"\"\"\n",
        "    Tokenization/string cleaning for dataset\n",
        "    Every dataset is lower cased except\n",
        "    \"\"\"\n",
        "    # st_w = set(stopwords.words('english'))\n",
        "    st_w = ['ourselves', 'hers', 'between', 'yourself', 'again', 'there', 'about', 'once', 'during', 'out', 'very', \n",
        "            'having', 'with', 'they', 'own', 'an', 'be', 'some', 'for','its', 'yours', 'such', 'into', 'of', 'most', \n",
        "            'itself', 'other', 'is', 's', 'am', 'or', 'who', 'as', 'from', 'him', 'each', 'the', 'themselves', 'until', \n",
        "            'below',  'we', 'these', 'your', 'his', 'through', 'me', 'were', 'her', 'more', 'himself', \n",
        "            'this', 'down',  'our', 'their', 'while', 'above', 'both', 'up', 'to', 'ours', 'she', 'all', \n",
        "             'when', 'at', 'any', 'before', 'them', 'same', 'and', 'been', 'have', 'in', 'will', 'on',  \n",
        "            'yourselves', 'then', 'that', 'what', 'over', 'why', 'so', 'now', 'under', \n",
        "            'he', 'you', 'herself', 'just', 'where', 'too', 'only', 'myself', 'which', 'those', 'i', 'after', \n",
        "            'few', 'whom', 'being', 'if', 'theirs', 'my',  'a', 'by', 'doing', 'it', 'how', 'further', 'here', 'than']\n",
        "    try:\n",
        "        string = re.sub(r\"\\\\\", \"\", string)    \n",
        "        string = re.sub(r\"\\'\", \"\", string)    \n",
        "        string = re.sub(r\"\\\"\", \"\", string) \n",
        "        string = re.sub(r\"&#039;\", \"'\",string)\n",
        "        string = re.sub(r\"\\r\",\"\",string)\n",
        "        string = re.sub(r\"\\n\",\"\",string)\n",
        "        string = string.split()\n",
        "        string = ' '.join([w for w in string if w not in st_w])\n",
        "    except:\n",
        "        print(string)\n",
        "    return string.strip().lower()"
      ],
      "execution_count": 0,
      "outputs": []
    },
    {
      "cell_type": "code",
      "metadata": {
        "id": "nyIQX07Yu2iR",
        "colab_type": "code",
        "colab": {}
      },
      "source": [
        "def f1(y_true, y_pred):\n",
        "    def recall(y_true, y_pred):\n",
        "        \"\"\"Recall metric.\n",
        "\n",
        "        Only computes a batch-wise average of recall.\n",
        "\n",
        "        Computes the recall, a metric for multi-label classification of\n",
        "        how many relevant items are selected.\n",
        "        \"\"\"\n",
        "        true_positives = K.sum(K.round(K.clip(y_true * y_pred, 0, 1)))\n",
        "        possible_positives = K.sum(K.round(K.clip(y_true, 0, 1)))\n",
        "        recall = true_positives / (possible_positives + K.epsilon())\n",
        "        return recall\n",
        "\n",
        "    def precision(y_true, y_pred):\n",
        "        \"\"\"Precision metric.\n",
        "\n",
        "        Only computes a batch-wise average of precision.\n",
        "\n",
        "        Computes the precision, a metric for multi-label classification of\n",
        "        how many selected items are relevant.\n",
        "        \"\"\"\n",
        "        true_positives = K.sum(K.round(K.clip(y_true * y_pred, 0, 1)))\n",
        "        predicted_positives = K.sum(K.round(K.clip(y_pred, 0, 1)))\n",
        "        precision = true_positives / (predicted_positives + K.epsilon())\n",
        "        return precision\n",
        "    precision = precision(y_true, y_pred)\n",
        "    recall = recall(y_true, y_pred)\n",
        "    return 2*((precision*recall)/(precision+recall+K.epsilon()))"
      ],
      "execution_count": 0,
      "outputs": []
    },
    {
      "cell_type": "code",
      "metadata": {
        "id": "SxUE91kHjAzu",
        "colab_type": "code",
        "colab": {}
      },
      "source": [
        "texts = []\n",
        "paras = []\n",
        "train,labels = load_data('train')\n",
        "\n",
        "for idx in range(train['review'].shape[0]):\n",
        "    text = clean_str(train['review'][idx])\n",
        "    texts.append(text)\n",
        "    sentences = tokenize.sent_tokenize(text)\n",
        "    paras.append(sentences)"
      ],
      "execution_count": 0,
      "outputs": []
    },
    {
      "cell_type": "code",
      "metadata": {
        "id": "T1Zh6x5DjCTM",
        "colab_type": "code",
        "colab": {}
      },
      "source": [
        "data = np.zeros((len(texts), MAX_SENT_NUM, MAX_SENT_LEN), dtype='int32')\n",
        "w2v_model = KeyedVectors.load_word2vec_format('PMC-w2v.bin',binary=True)\n",
        "for i, sentences in enumerate(paras):\n",
        "    for j, sent in enumerate(sentences):\n",
        "        if j< MAX_SENT_NUM:\n",
        "            wordTokens = text_to_word_sequence(sent)\n",
        "            data[i,j,0] = i\n",
        "            k=1\n",
        "            for _, word in enumerate(wordTokens):\n",
        "                try:\n",
        "                    if word in w2v_model.wv.vocab:\n",
        "                      word_index = w2v_model.wv.vocab[word].index\n",
        "                      if k<=MAX_SENT_LEN and word_index<MAX_FEATURES:\n",
        "                          data[i,j,k] = word_index\n",
        "                          k=k+1\n",
        "                except:\n",
        "                    pass\n",
        "\n",
        "for i in range(len(data)):\n",
        "  np.save(\"data/out\"+str(i),data[i])"
      ],
      "execution_count": 0,
      "outputs": []
    },
    {
      "cell_type": "code",
      "metadata": {
        "id": "X15jbOV0bQtt",
        "colab_type": "code",
        "colab": {}
      },
      "source": [
        "partition = {}\n",
        "idx = np.arange(len(data))\n",
        "np.random.shuffle(idx)\n",
        "train_samples = int(0.8*(len(data)))\n",
        "partition['train']=idx[:train_samples]\n",
        "partition['validation'] = idx[train_samples:]\n",
        "label_dict = {}\n",
        "for i in range(len(data)):\n",
        "  label_dict[i] = labels[i]"
      ],
      "execution_count": 0,
      "outputs": []
    },
    {
      "cell_type": "code",
      "metadata": {
        "id": "AA04c68Adcgd",
        "colab_type": "code",
        "colab": {}
      },
      "source": [
        "params = {'dim': (MAX_SENT_NUM,MAX_SENT_LEN),\n",
        "          'batch_size': 128,\n",
        "          'n_classes': 3,\n",
        "          'shuffle': True}"
      ],
      "execution_count": 0,
      "outputs": []
    },
    {
      "cell_type": "code",
      "metadata": {
        "id": "Ut45V6kQeIKF",
        "colab_type": "code",
        "colab": {}
      },
      "source": [
        "training_generator = DataGenerator(partition['train'], label_dict, **params)\n",
        "validation_generator = DataGenerator(partition['validation'], label_dict, **params)"
      ],
      "execution_count": 0,
      "outputs": []
    },
    {
      "cell_type": "code",
      "metadata": {
        "id": "Mc-2PqGsjt5i",
        "colab_type": "code",
        "colab": {}
      },
      "source": [
        "# word-level\n",
        "\n",
        "l2_reg = regularizers.l2(REG_PARAM)\n",
        "embedding_layer = create_embed()\n",
        "word_input = Input(shape=(MAX_SENT_LEN,),dtype='float32')\n",
        "word_sequences = embedding_layer(word_input)\n",
        "word_lstm = Bidirectional(LSTM(200,return_sequences = True,kernel_regularizer=l2_reg))(word_sequences)\n",
        "word_dense = TimeDistributed(Dense(200,kernel_regularizer=l2_reg))(word_lstm)\n",
        "word_att = AttentionWithContext()(word_dense)\n",
        "wordEncoder = Model(word_input,word_att)\n",
        "\n",
        "#sentence-level\n",
        "sentence_input = Input(shape=(MAX_SENT_NUM,MAX_SENT_LEN),dtype='float32')\n",
        "sentence_encoder = TimeDistributed(wordEncoder)(sentence_input)\n",
        "sentence_lstm = Bidirectional(LSTM(200,return_sequences=True,kernel_regularizer=l2_reg))(sentence_encoder)\n",
        "sentence_dense = TimeDistributed(Dense(200,kernel_regularizer=l2_reg))(sentence_lstm)\n",
        "sentence_att = Dropout(0.5)(AttentionWithContext()(sentence_dense))\n",
        "\n",
        "#FC\n",
        "preds_1 = Dense(50,activation='relu')(sentence_att)\n",
        "preds = Dense(OUTPUT_DIM,activation='softmax')(preds_1)"
      ],
      "execution_count": 0,
      "outputs": []
    },
    {
      "cell_type": "code",
      "metadata": {
        "id": "tVnUyQMiuLS9",
        "colab_type": "code",
        "colab": {}
      },
      "source": [
        "model = Model(sentence_input,preds)\n",
        "model.compile(loss='categorical_crossentropy',optimizer='adam',metrics=['acc',f1])\n",
        "checkpoint = ModelCheckpoint('han_pmc_unskewed.h5',verbose=0,monitor='val_loss',save_best_only=True,mode='auto')\n",
        "earlystop = EarlyStopping(monitor='val_loss',min_delta=0,patience=5,verbose=0,restore_best_weights=True)\n",
        "history = model.fit_generator(generator=training_generator,\n",
        "                    validation_data=validation_generator,\n",
        "                    use_multiprocessing=True,\n",
        "                    epochs =NUM_EPOCHS,callbacks=[checkpoint,earlystop])\n"
      ],
      "execution_count": 0,
      "outputs": []
    },
    {
      "cell_type": "code",
      "metadata": {
        "id": "_8SmAVKN635k",
        "colab_type": "code",
        "colab": {}
      },
      "source": [
        "model = load_model('han_pmc_unskewed.h5',custom_objects={'AttentionWithContext':AttentionWithContext,'f1':f1})"
      ],
      "execution_count": 0,
      "outputs": []
    },
    {
      "cell_type": "code",
      "metadata": {
        "id": "GSYmhlrk7nnu",
        "colab_type": "code",
        "colab": {}
      },
      "source": [
        "test, test_labels = load_data('test')"
      ],
      "execution_count": 0,
      "outputs": []
    },
    {
      "cell_type": "code",
      "metadata": {
        "id": "4QHP13TQgH4c",
        "colab_type": "code",
        "colab": {}
      },
      "source": [
        "test_texts = []\n",
        "test_paras = []\n",
        "\n",
        "for idx in range(test['review'].shape[0]):\n",
        "    test_text = clean_str(test['review'][idx])\n",
        "    test_texts.append(test_text)\n",
        "    test_sentences = tokenize.sent_tokenize(test_text)\n",
        "    test_paras.append(test_sentences)"
      ],
      "execution_count": 0,
      "outputs": []
    },
    {
      "cell_type": "code",
      "metadata": {
        "id": "ZgcUBPrFgLO2",
        "colab_type": "code",
        "colab": {}
      },
      "source": [
        "test_data = np.zeros((len(test_texts), MAX_SENT_NUM, MAX_SENT_LEN), dtype='int32')\n",
        "for i, sentences in enumerate(test_paras):\n",
        "    for j, sent in enumerate(test_sentences):\n",
        "        if j< MAX_SENT_NUM:\n",
        "            wordTokens = text_to_word_sequence(sent)\n",
        "            test_data[i,j,0] = i\n",
        "            k=1\n",
        "            for _, word in enumerate(wordTokens):\n",
        "                try:\n",
        "                    if word in w2v_model.wv.vocab:\n",
        "                      word_index = w2v_model.wv.vocab[word].index\n",
        "                      if k<=MAX_SENT_LEN and word_index<MAX_FEATURES:\n",
        "                          data[i,j,k] = word_index\n",
        "                          k=k+1\n",
        "                except:\n",
        "                    # print(word)\n",
        "                    pass"
      ],
      "execution_count": 0,
      "outputs": []
    },
    {
      "cell_type": "code",
      "metadata": {
        "id": "JOx3Q-PrgVzm",
        "colab_type": "code",
        "colab": {}
      },
      "source": [
        "pred = model.predict(test_data,batch_size=500)"
      ],
      "execution_count": 0,
      "outputs": []
    },
    {
      "cell_type": "code",
      "metadata": {
        "id": "4Th949D-gZc0",
        "colab_type": "code",
        "colab": {}
      },
      "source": [
        "from sklearn.metrics import accuracy_score, f1_score, confusion_matrix, classification_report\n",
        "pred_labels = np.argmax(pred,axis=1)\n",
        "act_labels = np.argmax(test_labels,axis=1)\n",
        "print('Acc: ',accuracy_score(act_labels,pred_labels))\n",
        "print('F1: ',f1_score(act_labels,pred_labels,average='weighted'))\n",
        "print(confusion_matrix(act_labels,pred_labels))\n",
        "print(classification_report(act_labels,pred_labels))"
      ],
      "execution_count": 0,
      "outputs": []
    }
  ]
}