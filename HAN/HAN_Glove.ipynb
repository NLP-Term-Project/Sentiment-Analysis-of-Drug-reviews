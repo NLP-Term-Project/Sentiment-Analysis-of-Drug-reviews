{
  "nbformat": 4,
  "nbformat_minor": 0,
  "metadata": {
    "colab": {
      "name": "HAN-Glove",
      "provenance": [],
      "collapsed_sections": [],
      "machine_shape": "hm"
    },
    "kernelspec": {
      "name": "python3",
      "display_name": "Python 3"
    },
    "accelerator": "GPU"
  },
  "cells": [
    {
      "cell_type": "code",
      "metadata": {
        "id": "qDZW_Y7xbwZm",
        "colab_type": "code",
        "outputId": "b01638a2-e792-4da7-c071-cea622df43ab",
        "colab": {
          "base_uri": "https://localhost:8080/",
          "height": 795
        }
      },
      "source": [
        "!wget nlp.stanford.edu/data/glove.6B.zip\n",
        "!unzip glove.6B.zip\n",
        "!wget https://archive.ics.uci.edu/ml/machine-learning-databases/00462/drugsCom_raw.zip\n",
        "# !wget http://evexdb.org/pmresources/vec-space-models/PMC-w2v.bin\n",
        "!unzip drugsCom_raw.zip\n",
        "!rm *.zip\n",
        "!ls"
      ],
      "execution_count": 0,
      "outputs": [
        {
          "output_type": "stream",
          "text": [
            "--2019-11-11 16:31:47--  http://nlp.stanford.edu/data/glove.6B.zip\n",
            "Resolving nlp.stanford.edu (nlp.stanford.edu)... 171.64.67.140\n",
            "Connecting to nlp.stanford.edu (nlp.stanford.edu)|171.64.67.140|:80... connected.\n",
            "HTTP request sent, awaiting response... 302 Found\n",
            "Location: https://nlp.stanford.edu/data/glove.6B.zip [following]\n",
            "--2019-11-11 16:31:47--  https://nlp.stanford.edu/data/glove.6B.zip\n",
            "Connecting to nlp.stanford.edu (nlp.stanford.edu)|171.64.67.140|:443... connected.\n",
            "HTTP request sent, awaiting response... 301 Moved Permanently\n",
            "Location: http://downloads.cs.stanford.edu/nlp/data/glove.6B.zip [following]\n",
            "--2019-11-11 16:31:47--  http://downloads.cs.stanford.edu/nlp/data/glove.6B.zip\n",
            "Resolving downloads.cs.stanford.edu (downloads.cs.stanford.edu)... 171.64.64.22\n",
            "Connecting to downloads.cs.stanford.edu (downloads.cs.stanford.edu)|171.64.64.22|:80... connected.\n",
            "HTTP request sent, awaiting response... 200 OK\n",
            "Length: 862182613 (822M) [application/zip]\n",
            "Saving to: ‘glove.6B.zip’\n",
            "\n",
            "glove.6B.zip        100%[===================>] 822.24M  2.20MB/s    in 6m 27s  \n",
            "\n",
            "2019-11-11 16:38:14 (2.12 MB/s) - ‘glove.6B.zip’ saved [862182613/862182613]\n",
            "\n",
            "Archive:  glove.6B.zip\n",
            "  inflating: glove.6B.50d.txt        \n",
            "  inflating: glove.6B.100d.txt       \n",
            "  inflating: glove.6B.200d.txt       \n",
            "  inflating: glove.6B.300d.txt       \n",
            "--2019-11-11 16:38:41--  https://archive.ics.uci.edu/ml/machine-learning-databases/00462/drugsCom_raw.zip\n",
            "Resolving archive.ics.uci.edu (archive.ics.uci.edu)... 128.195.10.252\n",
            "Connecting to archive.ics.uci.edu (archive.ics.uci.edu)|128.195.10.252|:443... connected.\n",
            "HTTP request sent, awaiting response... 200 OK\n",
            "Length: 42989872 (41M) [application/x-httpd-php]\n",
            "Saving to: ‘drugsCom_raw.zip’\n",
            "\n",
            "drugsCom_raw.zip    100%[===================>]  41.00M  31.1MB/s    in 1.3s    \n",
            "\n",
            "2019-11-11 16:38:44 (31.1 MB/s) - ‘drugsCom_raw.zip’ saved [42989872/42989872]\n",
            "\n",
            "Archive:  drugsCom_raw.zip\n",
            "replace drugsComTest_raw.tsv? [y]es, [n]o, [A]ll, [N]one, [r]ename: y\n",
            "  inflating: drugsComTest_raw.tsv    \n",
            "replace drugsComTrain_raw.tsv? [y]es, [n]o, [A]ll, [N]one, [r]ename: y\n",
            "  inflating: drugsComTrain_raw.tsv   \n",
            "data\t\t       glove.6B.100d.txt  glove.6B.50d.txt\n",
            "drugsComTest_raw.tsv   glove.6B.200d.txt  sample_data\n",
            "drugsComTrain_raw.tsv  glove.6B.300d.txt\n"
          ],
          "name": "stdout"
        }
      ]
    },
    {
      "cell_type": "code",
      "metadata": {
        "id": "gsdtObr6ao83",
        "colab_type": "code",
        "colab": {}
      },
      "source": [
        "!mkdir data"
      ],
      "execution_count": 0,
      "outputs": []
    },
    {
      "cell_type": "code",
      "metadata": {
        "id": "IEF2IOOnY-qJ",
        "colab_type": "code",
        "outputId": "3777db21-74e6-48b8-f456-815dcacdbe6a",
        "colab": {
          "base_uri": "https://localhost:8080/",
          "height": 931
        }
      },
      "source": [
        "import pandas as pd\n",
        "import numpy as np\n",
        "import keras\n",
        "from keras.preprocessing.text import Tokenizer,  text_to_word_sequence\n",
        "from keras.engine.topology import Layer\n",
        "from keras import initializers as initializers, regularizers, constraints\n",
        "from keras.callbacks import Callback, ModelCheckpoint, EarlyStopping\n",
        "from keras.utils.np_utils import to_categorical\n",
        "from keras.layers import Embedding, Input, Dense, LSTM, GRU, Bidirectional, TimeDistributed, Dropout,Concatenate,Lambda\n",
        "from keras import backend as K\n",
        "from keras import optimizers\n",
        "from keras.utils import to_categorical\n",
        "from keras.models import Model,clone_model,load_model\n",
        "import tensorflow as tf\n",
        "import nltk\n",
        "nltk.download('popular')\n",
        "nltk.download('stopwords')\n",
        "import re\n",
        "import matplotlib.pyplot as plt\n",
        "import sys\n",
        "from nltk import tokenize\n",
        "import os\n",
        "from sklearn.metrics import accuracy_score, f1_score, confusion_matrix  \n",
        "from keras.backend.tensorflow_backend import set_session  \n",
        "from scipy.spatial.distance import euclidean\n",
        "from sklearn.neighbors import NearestNeighbors\n",
        "import random\n",
        "from nltk.corpus import stopwords"
      ],
      "execution_count": 0,
      "outputs": [
        {
          "output_type": "stream",
          "text": [
            "Using TensorFlow backend.\n"
          ],
          "name": "stderr"
        },
        {
          "output_type": "display_data",
          "data": {
            "text/html": [
              "<p style=\"color: red;\">\n",
              "The default version of TensorFlow in Colab will soon switch to TensorFlow 2.x.<br>\n",
              "We recommend you <a href=\"https://www.tensorflow.org/guide/migrate\" target=\"_blank\">upgrade</a> now \n",
              "or ensure your notebook will continue to use TensorFlow 1.x via the <code>%tensorflow_version 1.x</code> magic:\n",
              "<a href=\"https://colab.research.google.com/notebooks/tensorflow_version.ipynb\" target=\"_blank\">more info</a>.</p>\n"
            ],
            "text/plain": [
              "<IPython.core.display.HTML object>"
            ]
          },
          "metadata": {
            "tags": []
          }
        },
        {
          "output_type": "stream",
          "text": [
            "[nltk_data] Downloading collection 'popular'\n",
            "[nltk_data]    | \n",
            "[nltk_data]    | Downloading package cmudict to /root/nltk_data...\n",
            "[nltk_data]    |   Unzipping corpora/cmudict.zip.\n",
            "[nltk_data]    | Downloading package gazetteers to /root/nltk_data...\n",
            "[nltk_data]    |   Unzipping corpora/gazetteers.zip.\n",
            "[nltk_data]    | Downloading package genesis to /root/nltk_data...\n",
            "[nltk_data]    |   Unzipping corpora/genesis.zip.\n",
            "[nltk_data]    | Downloading package gutenberg to /root/nltk_data...\n",
            "[nltk_data]    |   Unzipping corpora/gutenberg.zip.\n",
            "[nltk_data]    | Downloading package inaugural to /root/nltk_data...\n",
            "[nltk_data]    |   Unzipping corpora/inaugural.zip.\n",
            "[nltk_data]    | Downloading package movie_reviews to\n",
            "[nltk_data]    |     /root/nltk_data...\n",
            "[nltk_data]    |   Unzipping corpora/movie_reviews.zip.\n",
            "[nltk_data]    | Downloading package names to /root/nltk_data...\n",
            "[nltk_data]    |   Unzipping corpora/names.zip.\n",
            "[nltk_data]    | Downloading package shakespeare to /root/nltk_data...\n",
            "[nltk_data]    |   Unzipping corpora/shakespeare.zip.\n",
            "[nltk_data]    | Downloading package stopwords to /root/nltk_data...\n",
            "[nltk_data]    |   Unzipping corpora/stopwords.zip.\n",
            "[nltk_data]    | Downloading package treebank to /root/nltk_data...\n",
            "[nltk_data]    |   Unzipping corpora/treebank.zip.\n",
            "[nltk_data]    | Downloading package twitter_samples to\n",
            "[nltk_data]    |     /root/nltk_data...\n",
            "[nltk_data]    |   Unzipping corpora/twitter_samples.zip.\n",
            "[nltk_data]    | Downloading package omw to /root/nltk_data...\n",
            "[nltk_data]    |   Unzipping corpora/omw.zip.\n",
            "[nltk_data]    | Downloading package wordnet to /root/nltk_data...\n",
            "[nltk_data]    |   Unzipping corpora/wordnet.zip.\n",
            "[nltk_data]    | Downloading package wordnet_ic to /root/nltk_data...\n",
            "[nltk_data]    |   Unzipping corpora/wordnet_ic.zip.\n",
            "[nltk_data]    | Downloading package words to /root/nltk_data...\n",
            "[nltk_data]    |   Unzipping corpora/words.zip.\n",
            "[nltk_data]    | Downloading package maxent_ne_chunker to\n",
            "[nltk_data]    |     /root/nltk_data...\n",
            "[nltk_data]    |   Unzipping chunkers/maxent_ne_chunker.zip.\n",
            "[nltk_data]    | Downloading package punkt to /root/nltk_data...\n",
            "[nltk_data]    |   Unzipping tokenizers/punkt.zip.\n",
            "[nltk_data]    | Downloading package snowball_data to\n",
            "[nltk_data]    |     /root/nltk_data...\n",
            "[nltk_data]    | Downloading package averaged_perceptron_tagger to\n",
            "[nltk_data]    |     /root/nltk_data...\n",
            "[nltk_data]    |   Unzipping taggers/averaged_perceptron_tagger.zip.\n",
            "[nltk_data]    | \n",
            "[nltk_data]  Done downloading collection popular\n",
            "[nltk_data] Downloading package stopwords to /root/nltk_data...\n",
            "[nltk_data]   Package stopwords is already up-to-date!\n"
          ],
          "name": "stdout"
        }
      ]
    },
    {
      "cell_type": "code",
      "metadata": {
        "id": "JfL8vigkb71i",
        "colab_type": "code",
        "colab": {}
      },
      "source": [
        "MAX_FEATURES=200000\n",
        "MAX_SENT_LEN = 40\n",
        "MAX_SENT_NUM = 40\n",
        "EMBED_SIZE=100\n",
        "NUM_EPOCHS=25\n",
        "REG_PARAM = 1e-13\n",
        "OUTPUT_DIM = 3"
      ],
      "execution_count": 0,
      "outputs": []
    },
    {
      "cell_type": "code",
      "metadata": {
        "id": "XRPmx9CFb8qC",
        "colab_type": "code",
        "colab": {}
      },
      "source": [
        "def dot_product(x, kernel):\n",
        "    \"\"\"\n",
        "    Wrapper for dot product operation, in order to be compatibl|e with both\n",
        "    Theano and Tensorflow\n",
        "    Args:\n",
        "        x (): input\n",
        "        kernel (): weights\n",
        "    Returns:\n",
        "    \"\"\"\n",
        "    if K.backend() == 'tensorflow':\n",
        "        return K.squeeze(K.dot(x, K.expand_dims(kernel)), axis=-1)\n",
        "    else:\n",
        "        return K.dot(x, kernel)\n",
        "\n",
        "class AttentionWithContext(Layer):\n",
        "    \"\"\"\n",
        "    Attention operation, with a context/query vector, for temporal data.\n",
        "    Supports Masking.\n",
        "    Follows the work of Yang et al. [https://www.cs.cmu.edu/~diyiy/docs/naacl16.pdf]\n",
        "    \"Hierarchical Attention Networks for Document Classification\"\n",
        "    by using a context vector to assist the attention\n",
        "    # Input shape\n",
        "        3D tensor with shape: `(samples, steps, features)`.\n",
        "    # Output shape\n",
        "        2D tensor with shape: `(samples, features)`.\n",
        "    How to use:\n",
        "    Just put it on top of an RNN Layer (GRU/LSTM/SimpleRNN) with return_sequences=True.\n",
        "    The dimensions are inferred based on the output shape of the RNN.\n",
        "    Note: The layer has been tested with Keras 2.0.6\n",
        "    Example:\n",
        "        model.add(LSTM(64, return_sequences=True))\n",
        "        model.add(AttentionWithContext())\n",
        "        # next add a Dense layer (for classification/regression) or whatever...\n",
        "    \"\"\"\n",
        "\n",
        "    def __init__(self,\n",
        "                 W_regularizer=None, u_regularizer=None, b_regularizer=None,\n",
        "                 W_constraint=None, u_constraint=None, b_constraint=None,\n",
        "                 bias=True, **kwargs):\n",
        "\n",
        "        self.supports_masking = True\n",
        "        self.init = initializers.get('glorot_uniform')\n",
        "\n",
        "        self.W_regularizer = regularizers.get(W_regularizer)\n",
        "        self.u_regularizer = regularizers.get(u_regularizer)\n",
        "        self.b_regularizer = regularizers.get(b_regularizer)\n",
        "\n",
        "        self.W_constraint = constraints.get(W_constraint)\n",
        "        self.u_constraint = constraints.get(u_constraint)\n",
        "        self.b_constraint = constraints.get(b_constraint)\n",
        "\n",
        "        self.bias = bias\n",
        "        super(AttentionWithContext, self).__init__(**kwargs)\n",
        "\n",
        "    def build(self, input_shape):\n",
        "        assert len(input_shape) == 3\n",
        "\n",
        "        self.W = self.add_weight((input_shape[-1], input_shape[-1],),\n",
        "                                 initializer=self.init,\n",
        "                                 name='{}_W'.format(self.name),\n",
        "                                 regularizer=self.W_regularizer,\n",
        "                                 constraint=self.W_constraint)\n",
        "        if self.bias:\n",
        "            self.b = self.add_weight((input_shape[-1],),\n",
        "                                     initializer='zero',\n",
        "                                     name='{}_b'.format(self.name),\n",
        "                                     regularizer=self.b_regularizer,\n",
        "                                     constraint=self.b_constraint)\n",
        "\n",
        "        self.u = self.add_weight((input_shape[-1],),\n",
        "                                 initializer=self.init,\n",
        "                                 name='{}_u'.format(self.name),\n",
        "                                 regularizer=self.u_regularizer,\n",
        "                                 constraint=self.u_constraint)\n",
        "\n",
        "        super(AttentionWithContext, self).build(input_shape)\n",
        "\n",
        "    def compute_mask(self, input, input_mask=None):\n",
        "        # do not pass the mask to the next layers\n",
        "        return None\n",
        "\n",
        "    def call(self, x, mask=None):\n",
        "        uit = dot_product(x, self.W)\n",
        "\n",
        "        if self.bias:\n",
        "            uit += self.b\n",
        "\n",
        "        uit = K.tanh(uit)\n",
        "        ait = dot_product(uit, self.u)\n",
        "\n",
        "        a = K.exp(ait)\n",
        "\n",
        "        # apply mask after the exp. will be re-normalized next\n",
        "        if mask is not None:\n",
        "            # Cast the mask to floatX to avoid float64 upcasting in theano\n",
        "            a *= K.cast(mask, K.floatx())\n",
        "\n",
        "        # in some cases especially in the early stages of training the sum may be almost zero\n",
        "        # and this results in NaN's. A workaround is to add a very small positive number ε to the sum.\n",
        "        # a /= K.cast(K.sum(a, axis=1, keepdims=True), K.floatx())\n",
        "        a /= K.cast(K.sum(a, axis=1, keepdims=True) + K.epsilon(), K.floatx())\n",
        "\n",
        "        a = K.expand_dims(a)\n",
        "        weighted_input = x * a\n",
        "        return K.sum(weighted_input, axis=1)\n",
        "\n",
        "    def compute_output_shape(self, input_shape):\n",
        "        return input_shape[0], input_shape[-1]\n"
      ],
      "execution_count": 0,
      "outputs": []
    },
    {
      "cell_type": "code",
      "metadata": {
        "id": "7frnPInlXF3B",
        "colab_type": "code",
        "colab": {}
      },
      "source": [
        "class DataGenerator(keras.utils.Sequence):\n",
        "    'Generates data for Keras'\n",
        "    def __init__(self, list_IDs, labels, batch_size=32, dim=(32,32,32),\n",
        "                 n_classes=10, shuffle=True):\n",
        "        'Initialization'\n",
        "        self.dim = dim\n",
        "        self.batch_size = batch_size\n",
        "        self.labels = labels\n",
        "        self.list_IDs = list_IDs\n",
        "        self.n_classes = n_classes\n",
        "        self.shuffle = shuffle\n",
        "        self.on_epoch_end()\n",
        "\n",
        "    def __len__(self):\n",
        "        'Denotes the number of batches per epoch'\n",
        "        return int(np.floor(len(self.list_IDs) / self.batch_size))\n",
        "\n",
        "    def __getitem__(self, index):\n",
        "        'Generate one batch of data'\n",
        "        # Generate indexes of the batch\n",
        "        indexes = self.indexes[index*self.batch_size:(index+1)*self.batch_size]\n",
        "\n",
        "        # Find list of IDs\n",
        "        list_IDs_temp = [self.list_IDs[k] for k in indexes]\n",
        "\n",
        "        # Generate data\n",
        "        X, y = self.__data_generation(list_IDs_temp)\n",
        "\n",
        "        return X, y\n",
        "\n",
        "    def on_epoch_end(self):\n",
        "        'Updates indexes after each epoch'\n",
        "        self.indexes = np.arange(len(self.list_IDs))\n",
        "        if self.shuffle == True:\n",
        "            np.random.shuffle(self.indexes)\n",
        "\n",
        "    def __data_generation(self, list_IDs_temp):\n",
        "        'Generates data containing batch_size samples' # X : (n_samples, *dim)\n",
        "        # Initialization\n",
        "        X = np.empty((self.batch_size, *self.dim))\n",
        "        y = np.empty((self.batch_size), dtype=int)\n",
        "\n",
        "        # Generate data\n",
        "        for i, ID in enumerate(list_IDs_temp):\n",
        "            # Store sample\n",
        "            X[i,] = np.load('data/out' + str(ID) + '.npy').reshape(MAX_SENT_NUM,MAX_SENT_LEN)\n",
        "\n",
        "            # Store class\n",
        "            y[i] = self.labels[ID]\n",
        "\n",
        "        return X, keras.utils.to_categorical(y, num_classes=self.n_classes)"
      ],
      "execution_count": 0,
      "outputs": []
    },
    {
      "cell_type": "code",
      "metadata": {
        "id": "YO5iIHjhb_3k",
        "colab_type": "code",
        "colab": {}
      },
      "source": [
        "def embed_matrix(word_index,EMBED_DIR='glove.6B.100d.txt'):\n",
        "    print(\"Loading embeddings from \",EMBED_DIR)\n",
        "    embeddings_index = {}\n",
        "    f = open(EMBED_DIR,'r')\n",
        "#     count,dim = map(int,f.readline().split())\n",
        "    for line in f:\n",
        "        values = line.split()\n",
        "#         try:\n",
        "        coefs = np.asarray(values[-EMBED_SIZE:], dtype='float32')\n",
        "        word = ''.join(values[:-EMBED_SIZE])\n",
        "        embeddings_index[word] = coefs\n",
        "#         except:\n",
        "#         pass\n",
        "    f.close()\n",
        "\n",
        "    print('Total %s word vectors.' % len(embeddings_index))\n",
        "    embedding_matrix = np.zeros((len(word_index) + 1, EMBED_SIZE))\n",
        "    absent_words = 0\n",
        "    for word, i in word_index.items():\n",
        "        embedding_vector = embeddings_index.get(word)\n",
        "        if embedding_vector is not None:\n",
        "            # words not found in embedding index will be all-zeros.\n",
        "            embedding_matrix[i] = embedding_vector\n",
        "        else:\n",
        "            absent_words += 1\n",
        "    print('Total absent words are', absent_words, 'which is', \"%0.2f\" % (absent_words * 100 / len(word_index)), '% of total words')\n",
        "    \n",
        "    return embedding_matrix"
      ],
      "execution_count": 0,
      "outputs": []
    },
    {
      "cell_type": "code",
      "metadata": {
        "id": "pmslTYIkdJSB",
        "colab_type": "code",
        "colab": {}
      },
      "source": [
        "# l2_reg = regularizers.l2(REG_PARAM)\n",
        "# word_index = tokenizer.word_index\n",
        "# embedding_matrix = embed_matrix(tokenizer.word_index)\n",
        "# embed_matrix(None)"
      ],
      "execution_count": 0,
      "outputs": []
    },
    {
      "cell_type": "code",
      "metadata": {
        "id": "zs4eO9CDi9U1",
        "colab_type": "code",
        "colab": {}
      },
      "source": [
        "def load_data(mode='train'):\n",
        "    if mode=='train':\n",
        "        df = pd.read_csv('drugsComTrain_raw.tsv',sep='\\t')\n",
        "        to_remove = np.random.choice(df[df['rating']>=7].index,size=92510,replace=False)\n",
        "        df = df.drop(to_remove).reset_index()\n",
        "        to_remove = np.random.choice(df[df['rating']<=4].index,size=25719,replace=False)\n",
        "        df = df.drop(to_remove).reset_index()\n",
        "        if OUTPUT_DIM==3:\n",
        "          df = df.replace(to_replace={1:'negative',2:'negative',3:'negative',4:'negative',5:'neutral',6:'neutral',7:'positive',8:'positive',9:'positive',10:'positive'})\n",
        "          df = df.replace(to_replace={'positive':2,'neutral':1,'negative':0})\n",
        "        return pd.DataFrame(df['review']),df['rating'].to_numpy()\n",
        "    if mode=='test':\n",
        "        df = pd.read_csv('drugsComTest_raw.tsv', sep='\\t')\n",
        "        if OUTPUT_DIM==3:\n",
        "          df = df.replace(to_replace={1:'negative',2:'negative',3:'negative',4:'negative',5:'neutral',6:'neutral',7:'positive',8:'positive',9:'positive',10:'positive'})\n",
        "          df = df.replace(to_replace={'positive':2,'neutral':1,'negative':0})\n",
        "        return pd.DataFrame(df['review']), pd.get_dummies(df['rating']).to_numpy()"
      ],
      "execution_count": 0,
      "outputs": []
    },
    {
      "cell_type": "code",
      "metadata": {
        "id": "CoYgD4MCdHyP",
        "colab_type": "code",
        "colab": {}
      },
      "source": [
        ""
      ],
      "execution_count": 0,
      "outputs": []
    },
    {
      "cell_type": "code",
      "metadata": {
        "id": "HON0EeO-TRYZ",
        "colab_type": "code",
        "colab": {}
      },
      "source": [
        "stopwords_new = list(set(stopwords.words('english'))-set([\"couldn't\", \"didn't\", \"shouldn't\", \"doesn't\", \"doesn\", \"don't\", \"don\", \"ain\", \"aren\", \"aren't\", \"didn\", \"couldn\", \"hadn\", \"no\", \"nor\", \"not\", 'ain',\n",
        " 'aren',\n",
        " \"aren't\",\n",
        " 'couldn',\n",
        " \"couldn't\",\n",
        " 'didn',\n",
        " \"didn't\",\n",
        " 'doesn',\n",
        " \"doesn't\",\n",
        " 'hadn',\n",
        " \"hadn't\",\n",
        " 'hasn',\n",
        " \"hasn't\",\n",
        " 'haven',\n",
        " \"haven't\",\n",
        " 'isn',\n",
        " \"isn't\",\n",
        " 'mightn',\n",
        " \"mightn't\",\n",
        " 'mustn',\n",
        " \"mustn't\",\n",
        " 'needn',\n",
        " \"needn't\",\n",
        " 'shan',\n",
        " \"shan't\",\n",
        " 'shouldn',\n",
        " \"shouldn't\",\n",
        " 'wasn',\n",
        " \"wasn't\",\n",
        " 'weren',\n",
        " \"weren't\",\n",
        " 'won',\n",
        " \"won't\",\n",
        " 'wouldn',\n",
        " \"wouldn't\" ]))"
      ],
      "execution_count": 0,
      "outputs": []
    },
    {
      "cell_type": "code",
      "metadata": {
        "id": "D86o0Q-7i_au",
        "colab_type": "code",
        "colab": {}
      },
      "source": [
        "def clean_str(string):\n",
        "    \"\"\"\n",
        "    Tokenization/string cleaning for dataset\n",
        "    Every dataset is lower cased except\n",
        "    \"\"\"\n",
        "    # st_w = set(stopwords.words('english'))\n",
        "    st_w = set(stopwords_new)\n",
        "    try:\n",
        "        string = re.sub(r\"\\\\\", \"\", string)    \n",
        "        string = re.sub(r\"\\'\", \"\", string)    \n",
        "        string = re.sub(r\"\\\"\", \"\", string) \n",
        "        string = re.sub(r\"&#039;\", \"'\",string)\n",
        "        string = re.sub(r\"\\r\",\"\",string)\n",
        "        string = re.sub(r\"\\n\",\"\",string)\n",
        "        string = string.split()\n",
        "        string = ' '.join([w for w in string if w not in st_w])\n",
        "    except:\n",
        "        print(\"in exception\",string)\n",
        "    return string.strip().lower()"
      ],
      "execution_count": 0,
      "outputs": []
    },
    {
      "cell_type": "code",
      "metadata": {
        "id": "fdsHimF2ROR0",
        "colab_type": "code",
        "colab": {}
      },
      "source": [
        ""
      ],
      "execution_count": 0,
      "outputs": []
    },
    {
      "cell_type": "code",
      "metadata": {
        "id": "nyIQX07Yu2iR",
        "colab_type": "code",
        "colab": {}
      },
      "source": [
        "def f1(y_true, y_pred):\n",
        "    def recall(y_true, y_pred):\n",
        "        \"\"\"Recall metric.\n",
        "\n",
        "        Only computes a batch-wise average of recall.\n",
        "\n",
        "        Computes the recall, a metric for multi-label classification of\n",
        "        how many relevant items are selected.\n",
        "        \"\"\"\n",
        "        true_positives = K.sum(K.round(K.clip(y_true * y_pred, 0, 1)))\n",
        "        possible_positives = K.sum(K.round(K.clip(y_true, 0, 1)))\n",
        "        recall = true_positives / (possible_positives + K.epsilon())\n",
        "        return recall\n",
        "\n",
        "    def precision(y_true, y_pred):\n",
        "        \"\"\"Precision metric.\n",
        "\n",
        "        Only computes a batch-wise average of precision.\n",
        "\n",
        "        Computes the precision, a metric for multi-label classification of\n",
        "        how many selected items are relevant.\n",
        "        \"\"\"\n",
        "        true_positives = K.sum(K.round(K.clip(y_true * y_pred, 0, 1)))\n",
        "        predicted_positives = K.sum(K.round(K.clip(y_pred, 0, 1)))\n",
        "        precision = true_positives / (predicted_positives + K.epsilon())\n",
        "        return precision\n",
        "    precision = precision(y_true, y_pred)\n",
        "    recall = recall(y_true, y_pred)\n",
        "    return 2*((precision*recall)/(precision+recall+K.epsilon()))"
      ],
      "execution_count": 0,
      "outputs": []
    },
    {
      "cell_type": "code",
      "metadata": {
        "id": "SxUE91kHjAzu",
        "colab_type": "code",
        "outputId": "82bbc895-023b-40dd-d99b-d37f0fce729a",
        "colab": {
          "base_uri": "https://localhost:8080/",
          "height": 35
        }
      },
      "source": [
        "import collections\n",
        "texts = []\n",
        "paras = []\n",
        "train,labels = load_data('train')\n",
        "# print(train['review'])\n",
        "print(collections.Counter(labels))\n",
        "for idx in range(train['review'].shape[0]):\n",
        "    # print(train['review'][0])\n",
        "    text = clean_str(train['review'][idx])\n",
        "    texts.append(text)\n",
        "    sentences = tokenize.sent_tokenize(text)\n",
        "    paras.append(sentences)"
      ],
      "execution_count": 0,
      "outputs": [
        {
          "output_type": "stream",
          "text": [
            "Counter({1: 14356, 2: 14356, 0: 14356})\n"
          ],
          "name": "stdout"
        }
      ]
    },
    {
      "cell_type": "code",
      "metadata": {
        "id": "_X3qY5h9j8vl",
        "colab_type": "code",
        "colab": {}
      },
      "source": [
        "tokenizer = Tokenizer(num_words=MAX_FEATURES, oov_token=True)\n",
        "tokenizer.fit_on_texts(texts)"
      ],
      "execution_count": 0,
      "outputs": []
    },
    {
      "cell_type": "code",
      "metadata": {
        "id": "T1Zh6x5DjCTM",
        "colab_type": "code",
        "colab": {}
      },
      "source": [
        "data = np.zeros((len(texts), MAX_SENT_NUM, MAX_SENT_LEN), dtype='int32')\n",
        "for i, sentences in enumerate(paras):\n",
        "    for j, sent in enumerate(sentences):\n",
        "        if j< MAX_SENT_NUM:\n",
        "            wordTokens = text_to_word_sequence(sent)\n",
        "            data[i,j,0] = i\n",
        "            k=1\n",
        "            for _, word in enumerate(wordTokens):\n",
        "                try:\n",
        "                    if k<=MAX_SENT_LEN and tokenizer.word_index[word]<MAX_FEATURES:\n",
        "                        data[i,j,k] = tokenizer.word_index[word]\n",
        "                        k=k+1\n",
        "                except:\n",
        "                    # print(word)\n",
        "                    pass\n",
        "\n",
        "for i in range(len(data)):\n",
        "  np.save(\"data/out\"+str(i),data[i])"
      ],
      "execution_count": 0,
      "outputs": []
    },
    {
      "cell_type": "code",
      "metadata": {
        "id": "X15jbOV0bQtt",
        "colab_type": "code",
        "colab": {}
      },
      "source": [
        "partition = {}\n",
        "idx = np.arange(len(data))\n",
        "np.random.shuffle(idx)\n",
        "train_samples = int(0.8*(len(data)))\n",
        "partition['train']=idx[:train_samples]\n",
        "partition['validation'] = idx[train_samples:]\n",
        "label_dict = {}\n",
        "for i in range(len(data)):\n",
        "  label_dict[i] = labels[i]"
      ],
      "execution_count": 0,
      "outputs": []
    },
    {
      "cell_type": "code",
      "metadata": {
        "id": "KpcXTisLA234",
        "colab_type": "code",
        "colab": {}
      },
      "source": [
        "# storing dataset for earlier weights\n",
        "# import pickle\n",
        "# with open('partition.pickle','wb') as filename:\n",
        "#   pickle.dump(partition,filename)\n",
        "# with open('label.pickle','wb') as filename:\n",
        "#   pickle.dump(label_dict,filename)"
      ],
      "execution_count": 0,
      "outputs": []
    },
    {
      "cell_type": "code",
      "metadata": {
        "id": "AA04c68Adcgd",
        "colab_type": "code",
        "colab": {}
      },
      "source": [
        "params = {'dim': (MAX_SENT_NUM,MAX_SENT_LEN),\n",
        "          'batch_size': 256,\n",
        "          'n_classes': 3,\n",
        "          'shuffle': True}"
      ],
      "execution_count": 0,
      "outputs": []
    },
    {
      "cell_type": "code",
      "metadata": {
        "id": "Ut45V6kQeIKF",
        "colab_type": "code",
        "colab": {}
      },
      "source": [
        "training_generator = DataGenerator(partition['train'], label_dict, **params)\n",
        "validation_generator = DataGenerator(partition['validation'], label_dict, **params)"
      ],
      "execution_count": 0,
      "outputs": []
    },
    {
      "cell_type": "code",
      "metadata": {
        "id": "Mc-2PqGsjt5i",
        "colab_type": "code",
        "outputId": "2e397780-8882-42a3-ce11-b64ee362b022",
        "colab": {
          "base_uri": "https://localhost:8080/",
          "height": 70
        }
      },
      "source": [
        "# word-level\n",
        "\n",
        "l2_reg = regularizers.l2(REG_PARAM)\n",
        "word_index = tokenizer.word_index\n",
        "embedding_matrix = embed_matrix(tokenizer.word_index)\n",
        "embedding_layer = Embedding(len(word_index)+1,EMBED_SIZE,weights=[embedding_matrix],input_length = MAX_SENT_LEN,trainable=False)\n",
        "word_input = Input(shape=(MAX_SENT_LEN,),dtype='float32')\n",
        "word_sequences = embedding_layer(word_input)\n",
        "word_lstm = Bidirectional(LSTM(200,return_sequences = True,kernel_regularizer=l2_reg))(word_sequences)\n",
        "word_dense = TimeDistributed(Dense(200,kernel_regularizer=l2_reg))(word_lstm)\n",
        "word_att = AttentionWithContext()(word_dense)\n",
        "wordEncoder = Model(word_input,word_att)\n",
        "\n",
        "#sentence-level\n",
        "sentence_input = Input(shape=(MAX_SENT_NUM,MAX_SENT_LEN),dtype='float32')\n",
        "sentence_encoder = TimeDistributed(wordEncoder)(sentence_input)\n",
        "sentence_lstm = Bidirectional(LSTM(200,return_sequences=True,kernel_regularizer=l2_reg))(sentence_encoder)\n",
        "sentence_dense = TimeDistributed(Dense(200,kernel_regularizer=l2_reg))(sentence_lstm)\n",
        "sentence_att = Dropout(0.5)(AttentionWithContext()(sentence_dense))\n",
        "\n",
        "#FC\n",
        "preds_1 = Dense(50,activation='relu')(sentence_att)\n",
        "preds = Dense(OUTPUT_DIM,activation='softmax')(preds_1)"
      ],
      "execution_count": 0,
      "outputs": [
        {
          "output_type": "stream",
          "text": [
            "Loading embeddings from  glove.6B.100d.txt\n",
            "Total 400000 word vectors.\n",
            "Total absent words are 10035 which is 31.97 % of total words\n"
          ],
          "name": "stdout"
        }
      ]
    },
    {
      "cell_type": "code",
      "metadata": {
        "id": "tVnUyQMiuLS9",
        "colab_type": "code",
        "outputId": "5e40668d-6586-4ded-fcaa-f30749f268b3",
        "colab": {
          "base_uri": "https://localhost:8080/",
          "height": 1000
        }
      },
      "source": [
        "model = Model(sentence_input,preds)\n",
        "model.compile(loss='categorical_crossentropy',optimizer='adam',metrics=['acc',f1])\n",
        "checkpoint = ModelCheckpoint('han_not_skewed.h5',verbose=0,monitor='val_loss',save_best_only=True,mode='auto')\n",
        "# earlystop = EarlyStopping(monitor='val_loss',min_delta=0,patience=5,verbose=0,restore_best_weights=True)\n",
        "# history = model.fit(data[:1000],labels[:1000],validation_split=0.2,epochs=NUM_EPOCHS, batch_size=50,callbacks=[checkpoint])\n",
        "history = model.fit_generator(generator=training_generator,\n",
        "                    validation_data=validation_generator,\n",
        "                    use_multiprocessing=True,\n",
        "                    epochs =NUM_EPOCHS,callbacks=[checkpoint])\n",
        "\n",
        "## TODO\n",
        "# Create generators\n",
        "# Test PyTorch code"
      ],
      "execution_count": 0,
      "outputs": [
        {
          "output_type": "stream",
          "text": [
            "Epoch 1/25\n",
            "134/134 [==============================] - 105s 787ms/step - loss: 1.0920 - acc: 0.3655 - f1: 0.0257 - val_loss: 1.0426 - val_acc: 0.4530 - val_f1: 0.1400\n",
            "Epoch 2/25\n",
            "134/134 [==============================] - 100s 747ms/step - loss: 0.9956 - acc: 0.4961 - f1: 0.3267 - val_loss: 0.9460 - val_acc: 0.5391 - val_f1: 0.3960\n",
            "Epoch 3/25\n",
            "134/134 [==============================] - 100s 745ms/step - loss: 0.9157 - acc: 0.5545 - f1: 0.4571 - val_loss: 0.8823 - val_acc: 0.5790 - val_f1: 0.4785\n",
            "Epoch 4/25\n",
            "134/134 [==============================] - 100s 747ms/step - loss: 0.8761 - acc: 0.5829 - f1: 0.5088 - val_loss: 0.8649 - val_acc: 0.5884 - val_f1: 0.5169\n",
            "Epoch 5/25\n",
            "134/134 [==============================] - 100s 748ms/step - loss: 0.8331 - acc: 0.6093 - f1: 0.5555 - val_loss: 0.8325 - val_acc: 0.6080 - val_f1: 0.5488\n",
            "Epoch 6/25\n",
            "134/134 [==============================] - 100s 745ms/step - loss: 0.7967 - acc: 0.6304 - f1: 0.5900 - val_loss: 0.8253 - val_acc: 0.6109 - val_f1: 0.5617\n",
            "Epoch 7/25\n",
            "134/134 [==============================] - 100s 746ms/step - loss: 0.7722 - acc: 0.6428 - f1: 0.6096 - val_loss: 0.8375 - val_acc: 0.6109 - val_f1: 0.5690\n",
            "Epoch 8/25\n",
            "134/134 [==============================] - 100s 747ms/step - loss: 0.7307 - acc: 0.6696 - f1: 0.6453 - val_loss: 0.8176 - val_acc: 0.6206 - val_f1: 0.6054\n",
            "Epoch 9/25\n",
            "134/134 [==============================] - 100s 745ms/step - loss: 0.6920 - acc: 0.6905 - f1: 0.6707 - val_loss: 0.8289 - val_acc: 0.6297 - val_f1: 0.6128\n",
            "Epoch 10/25\n",
            "134/134 [==============================] - 100s 743ms/step - loss: 0.6512 - acc: 0.7149 - f1: 0.7021 - val_loss: 0.8459 - val_acc: 0.6258 - val_f1: 0.6201\n",
            "Epoch 11/25\n",
            "134/134 [==============================] - 100s 744ms/step - loss: 0.6089 - acc: 0.7404 - f1: 0.7316 - val_loss: 0.8126 - val_acc: 0.6413 - val_f1: 0.6250\n",
            "Epoch 12/25\n",
            "134/134 [==============================] - 100s 743ms/step - loss: 0.5543 - acc: 0.7700 - f1: 0.7636 - val_loss: 0.8334 - val_acc: 0.6406 - val_f1: 0.6320\n",
            "Epoch 13/25\n",
            "134/134 [==============================] - 100s 743ms/step - loss: 0.5045 - acc: 0.7919 - f1: 0.7875 - val_loss: 0.8807 - val_acc: 0.6510 - val_f1: 0.6466\n",
            "Epoch 14/25\n",
            "134/134 [==============================] - 100s 745ms/step - loss: 0.4489 - acc: 0.8178 - f1: 0.8160 - val_loss: 0.9072 - val_acc: 0.6483 - val_f1: 0.6448\n",
            "Epoch 15/25\n",
            "134/134 [==============================] - 100s 745ms/step - loss: 0.3902 - acc: 0.8480 - f1: 0.8462 - val_loss: 1.0463 - val_acc: 0.6443 - val_f1: 0.6431\n",
            "Epoch 16/25\n",
            "134/134 [==============================] - 100s 744ms/step - loss: 0.3470 - acc: 0.8657 - f1: 0.8652 - val_loss: 1.1133 - val_acc: 0.6557 - val_f1: 0.6551\n",
            "Epoch 17/25\n",
            "134/134 [==============================] - 100s 744ms/step - loss: 0.2942 - acc: 0.8887 - f1: 0.8886 - val_loss: 1.1247 - val_acc: 0.6632 - val_f1: 0.6615\n",
            "Epoch 18/25\n",
            "134/134 [==============================] - 100s 744ms/step - loss: 0.2359 - acc: 0.9141 - f1: 0.9145 - val_loss: 1.1143 - val_acc: 0.6656 - val_f1: 0.6640\n",
            "Epoch 19/25\n",
            "134/134 [==============================] - 100s 746ms/step - loss: 0.2069 - acc: 0.9251 - f1: 0.9254 - val_loss: 1.2993 - val_acc: 0.6661 - val_f1: 0.6660\n",
            "Epoch 20/25\n",
            "134/134 [==============================] - 99s 740ms/step - loss: 0.1644 - acc: 0.9422 - f1: 0.9420 - val_loss: 1.4300 - val_acc: 0.6700 - val_f1: 0.6686\n",
            "Epoch 21/25\n",
            "134/134 [==============================] - 99s 742ms/step - loss: 0.1596 - acc: 0.9437 - f1: 0.9435 - val_loss: 1.4010 - val_acc: 0.6699 - val_f1: 0.6705\n",
            "Epoch 22/25\n",
            "134/134 [==============================] - 99s 742ms/step - loss: 0.1252 - acc: 0.9560 - f1: 0.9563 - val_loss: 1.5522 - val_acc: 0.6798 - val_f1: 0.6785\n",
            "Epoch 23/25\n",
            "134/134 [==============================] - 100s 744ms/step - loss: 0.0985 - acc: 0.9652 - f1: 0.9654 - val_loss: 1.7918 - val_acc: 0.6661 - val_f1: 0.6661\n",
            "Epoch 24/25\n",
            "134/134 [==============================] - 100s 744ms/step - loss: 0.0972 - acc: 0.9666 - f1: 0.9665 - val_loss: 1.5898 - val_acc: 0.6763 - val_f1: 0.6769\n",
            "Epoch 25/25\n",
            "104/134 [======================>.......] - ETA: 20s - loss: 0.0847 - acc: 0.9704 - f1: 0.9706"
          ],
          "name": "stdout"
        },
        {
          "output_type": "stream",
          "text": [
            "Process ForkPoolWorker-75:\n",
            "Traceback (most recent call last):\n",
            "Process ForkPoolWorker-74:\n",
            "  File \"/usr/lib/python3.6/multiprocessing/process.py\", line 258, in _bootstrap\n",
            "    self.run()\n",
            "Traceback (most recent call last):\n",
            "  File \"/usr/lib/python3.6/multiprocessing/process.py\", line 258, in _bootstrap\n",
            "    self.run()\n",
            "  File \"/usr/lib/python3.6/multiprocessing/process.py\", line 93, in run\n",
            "    self._target(*self._args, **self._kwargs)\n",
            "  File \"/usr/lib/python3.6/multiprocessing/process.py\", line 93, in run\n",
            "    self._target(*self._args, **self._kwargs)\n",
            "  File \"/usr/lib/python3.6/multiprocessing/pool.py\", line 108, in worker\n",
            "    task = get()\n",
            "  File \"/usr/lib/python3.6/multiprocessing/queues.py\", line 335, in get\n",
            "    res = self._reader.recv_bytes()\n",
            "  File \"/usr/lib/python3.6/multiprocessing/pool.py\", line 108, in worker\n",
            "    task = get()\n",
            "  File \"/usr/lib/python3.6/multiprocessing/connection.py\", line 216, in recv_bytes\n",
            "    buf = self._recv_bytes(maxlength)\n",
            "  File \"/usr/lib/python3.6/multiprocessing/connection.py\", line 407, in _recv_bytes\n",
            "    buf = self._recv(4)\n",
            "  File \"/usr/lib/python3.6/multiprocessing/queues.py\", line 335, in get\n",
            "    res = self._reader.recv_bytes()\n",
            "  File \"/usr/lib/python3.6/multiprocessing/connection.py\", line 379, in _recv\n",
            "    chunk = read(handle, remaining)\n",
            "  File \"/usr/lib/python3.6/multiprocessing/connection.py\", line 216, in recv_bytes\n",
            "    buf = self._recv_bytes(maxlength)\n",
            "  File \"/usr/lib/python3.6/multiprocessing/connection.py\", line 407, in _recv_bytes\n",
            "    buf = self._recv(4)\n",
            "  File \"/usr/lib/python3.6/multiprocessing/connection.py\", line 379, in _recv\n",
            "    chunk = read(handle, remaining)\n",
            "KeyboardInterrupt\n",
            "KeyboardInterrupt\n"
          ],
          "name": "stderr"
        },
        {
          "output_type": "error",
          "ename": "KeyboardInterrupt",
          "evalue": "ignored",
          "traceback": [
            "\u001b[0;31m---------------------------------------------------------------------------\u001b[0m",
            "\u001b[0;31mKeyboardInterrupt\u001b[0m                         Traceback (most recent call last)",
            "\u001b[0;32m<ipython-input-49-b6ab09ceee79>\u001b[0m in \u001b[0;36m<module>\u001b[0;34m()\u001b[0m\n\u001b[1;32m      7\u001b[0m                     \u001b[0mvalidation_data\u001b[0m\u001b[0;34m=\u001b[0m\u001b[0mvalidation_generator\u001b[0m\u001b[0;34m,\u001b[0m\u001b[0;34m\u001b[0m\u001b[0;34m\u001b[0m\u001b[0m\n\u001b[1;32m      8\u001b[0m                     \u001b[0muse_multiprocessing\u001b[0m\u001b[0;34m=\u001b[0m\u001b[0;32mTrue\u001b[0m\u001b[0;34m,\u001b[0m\u001b[0;34m\u001b[0m\u001b[0;34m\u001b[0m\u001b[0m\n\u001b[0;32m----> 9\u001b[0;31m                     epochs =NUM_EPOCHS,callbacks=[checkpoint])\n\u001b[0m\u001b[1;32m     10\u001b[0m \u001b[0;34m\u001b[0m\u001b[0m\n\u001b[1;32m     11\u001b[0m \u001b[0;31m## TODO\u001b[0m\u001b[0;34m\u001b[0m\u001b[0;34m\u001b[0m\u001b[0;34m\u001b[0m\u001b[0m\n",
            "\u001b[0;32m/usr/local/lib/python3.6/dist-packages/keras/legacy/interfaces.py\u001b[0m in \u001b[0;36mwrapper\u001b[0;34m(*args, **kwargs)\u001b[0m\n\u001b[1;32m     89\u001b[0m                 warnings.warn('Update your `' + object_name + '` call to the ' +\n\u001b[1;32m     90\u001b[0m                               'Keras 2 API: ' + signature, stacklevel=2)\n\u001b[0;32m---> 91\u001b[0;31m             \u001b[0;32mreturn\u001b[0m \u001b[0mfunc\u001b[0m\u001b[0;34m(\u001b[0m\u001b[0;34m*\u001b[0m\u001b[0margs\u001b[0m\u001b[0;34m,\u001b[0m \u001b[0;34m**\u001b[0m\u001b[0mkwargs\u001b[0m\u001b[0;34m)\u001b[0m\u001b[0;34m\u001b[0m\u001b[0;34m\u001b[0m\u001b[0m\n\u001b[0m\u001b[1;32m     92\u001b[0m         \u001b[0mwrapper\u001b[0m\u001b[0;34m.\u001b[0m\u001b[0m_original_function\u001b[0m \u001b[0;34m=\u001b[0m \u001b[0mfunc\u001b[0m\u001b[0;34m\u001b[0m\u001b[0;34m\u001b[0m\u001b[0m\n\u001b[1;32m     93\u001b[0m         \u001b[0;32mreturn\u001b[0m \u001b[0mwrapper\u001b[0m\u001b[0;34m\u001b[0m\u001b[0;34m\u001b[0m\u001b[0m\n",
            "\u001b[0;32m/usr/local/lib/python3.6/dist-packages/keras/engine/training.py\u001b[0m in \u001b[0;36mfit_generator\u001b[0;34m(self, generator, steps_per_epoch, epochs, verbose, callbacks, validation_data, validation_steps, validation_freq, class_weight, max_queue_size, workers, use_multiprocessing, shuffle, initial_epoch)\u001b[0m\n\u001b[1;32m   1656\u001b[0m             \u001b[0muse_multiprocessing\u001b[0m\u001b[0;34m=\u001b[0m\u001b[0muse_multiprocessing\u001b[0m\u001b[0;34m,\u001b[0m\u001b[0;34m\u001b[0m\u001b[0;34m\u001b[0m\u001b[0m\n\u001b[1;32m   1657\u001b[0m             \u001b[0mshuffle\u001b[0m\u001b[0;34m=\u001b[0m\u001b[0mshuffle\u001b[0m\u001b[0;34m,\u001b[0m\u001b[0;34m\u001b[0m\u001b[0;34m\u001b[0m\u001b[0m\n\u001b[0;32m-> 1658\u001b[0;31m             initial_epoch=initial_epoch)\n\u001b[0m\u001b[1;32m   1659\u001b[0m \u001b[0;34m\u001b[0m\u001b[0m\n\u001b[1;32m   1660\u001b[0m     \u001b[0;34m@\u001b[0m\u001b[0minterfaces\u001b[0m\u001b[0;34m.\u001b[0m\u001b[0mlegacy_generator_methods_support\u001b[0m\u001b[0;34m\u001b[0m\u001b[0;34m\u001b[0m\u001b[0m\n",
            "\u001b[0;32m/usr/local/lib/python3.6/dist-packages/keras/engine/training_generator.py\u001b[0m in \u001b[0;36mfit_generator\u001b[0;34m(model, generator, steps_per_epoch, epochs, verbose, callbacks, validation_data, validation_steps, validation_freq, class_weight, max_queue_size, workers, use_multiprocessing, shuffle, initial_epoch)\u001b[0m\n\u001b[1;32m    213\u001b[0m                 outs = model.train_on_batch(x, y,\n\u001b[1;32m    214\u001b[0m                                             \u001b[0msample_weight\u001b[0m\u001b[0;34m=\u001b[0m\u001b[0msample_weight\u001b[0m\u001b[0;34m,\u001b[0m\u001b[0;34m\u001b[0m\u001b[0;34m\u001b[0m\u001b[0m\n\u001b[0;32m--> 215\u001b[0;31m                                             class_weight=class_weight)\n\u001b[0m\u001b[1;32m    216\u001b[0m \u001b[0;34m\u001b[0m\u001b[0m\n\u001b[1;32m    217\u001b[0m                 \u001b[0mouts\u001b[0m \u001b[0;34m=\u001b[0m \u001b[0mto_list\u001b[0m\u001b[0;34m(\u001b[0m\u001b[0mouts\u001b[0m\u001b[0;34m)\u001b[0m\u001b[0;34m\u001b[0m\u001b[0;34m\u001b[0m\u001b[0m\n",
            "\u001b[0;32m/usr/local/lib/python3.6/dist-packages/keras/engine/training.py\u001b[0m in \u001b[0;36mtrain_on_batch\u001b[0;34m(self, x, y, sample_weight, class_weight)\u001b[0m\n\u001b[1;32m   1447\u001b[0m             \u001b[0mins\u001b[0m \u001b[0;34m=\u001b[0m \u001b[0mx\u001b[0m \u001b[0;34m+\u001b[0m \u001b[0my\u001b[0m \u001b[0;34m+\u001b[0m \u001b[0msample_weights\u001b[0m\u001b[0;34m\u001b[0m\u001b[0;34m\u001b[0m\u001b[0m\n\u001b[1;32m   1448\u001b[0m         \u001b[0mself\u001b[0m\u001b[0;34m.\u001b[0m\u001b[0m_make_train_function\u001b[0m\u001b[0;34m(\u001b[0m\u001b[0;34m)\u001b[0m\u001b[0;34m\u001b[0m\u001b[0;34m\u001b[0m\u001b[0m\n\u001b[0;32m-> 1449\u001b[0;31m         \u001b[0moutputs\u001b[0m \u001b[0;34m=\u001b[0m \u001b[0mself\u001b[0m\u001b[0;34m.\u001b[0m\u001b[0mtrain_function\u001b[0m\u001b[0;34m(\u001b[0m\u001b[0mins\u001b[0m\u001b[0;34m)\u001b[0m\u001b[0;34m\u001b[0m\u001b[0;34m\u001b[0m\u001b[0m\n\u001b[0m\u001b[1;32m   1450\u001b[0m         \u001b[0;32mreturn\u001b[0m \u001b[0munpack_singleton\u001b[0m\u001b[0;34m(\u001b[0m\u001b[0moutputs\u001b[0m\u001b[0;34m)\u001b[0m\u001b[0;34m\u001b[0m\u001b[0;34m\u001b[0m\u001b[0m\n\u001b[1;32m   1451\u001b[0m \u001b[0;34m\u001b[0m\u001b[0m\n",
            "\u001b[0;32m/usr/local/lib/python3.6/dist-packages/keras/backend/tensorflow_backend.py\u001b[0m in \u001b[0;36m__call__\u001b[0;34m(self, inputs)\u001b[0m\n\u001b[1;32m   2977\u001b[0m                     \u001b[0;32mreturn\u001b[0m \u001b[0mself\u001b[0m\u001b[0;34m.\u001b[0m\u001b[0m_legacy_call\u001b[0m\u001b[0;34m(\u001b[0m\u001b[0minputs\u001b[0m\u001b[0;34m)\u001b[0m\u001b[0;34m\u001b[0m\u001b[0;34m\u001b[0m\u001b[0m\n\u001b[1;32m   2978\u001b[0m \u001b[0;34m\u001b[0m\u001b[0m\n\u001b[0;32m-> 2979\u001b[0;31m             \u001b[0;32mreturn\u001b[0m \u001b[0mself\u001b[0m\u001b[0;34m.\u001b[0m\u001b[0m_call\u001b[0m\u001b[0;34m(\u001b[0m\u001b[0minputs\u001b[0m\u001b[0;34m)\u001b[0m\u001b[0;34m\u001b[0m\u001b[0;34m\u001b[0m\u001b[0m\n\u001b[0m\u001b[1;32m   2980\u001b[0m         \u001b[0;32melse\u001b[0m\u001b[0;34m:\u001b[0m\u001b[0;34m\u001b[0m\u001b[0;34m\u001b[0m\u001b[0m\n\u001b[1;32m   2981\u001b[0m             \u001b[0;32mif\u001b[0m \u001b[0mpy_any\u001b[0m\u001b[0;34m(\u001b[0m\u001b[0mis_tensor\u001b[0m\u001b[0;34m(\u001b[0m\u001b[0mx\u001b[0m\u001b[0;34m)\u001b[0m \u001b[0;32mfor\u001b[0m \u001b[0mx\u001b[0m \u001b[0;32min\u001b[0m \u001b[0minputs\u001b[0m\u001b[0;34m)\u001b[0m\u001b[0;34m:\u001b[0m\u001b[0;34m\u001b[0m\u001b[0;34m\u001b[0m\u001b[0m\n",
            "\u001b[0;32m/usr/local/lib/python3.6/dist-packages/keras/backend/tensorflow_backend.py\u001b[0m in \u001b[0;36m_call\u001b[0;34m(self, inputs)\u001b[0m\n\u001b[1;32m   2935\u001b[0m             \u001b[0mfetched\u001b[0m \u001b[0;34m=\u001b[0m \u001b[0mself\u001b[0m\u001b[0;34m.\u001b[0m\u001b[0m_callable_fn\u001b[0m\u001b[0;34m(\u001b[0m\u001b[0;34m*\u001b[0m\u001b[0marray_vals\u001b[0m\u001b[0;34m,\u001b[0m \u001b[0mrun_metadata\u001b[0m\u001b[0;34m=\u001b[0m\u001b[0mself\u001b[0m\u001b[0;34m.\u001b[0m\u001b[0mrun_metadata\u001b[0m\u001b[0;34m)\u001b[0m\u001b[0;34m\u001b[0m\u001b[0;34m\u001b[0m\u001b[0m\n\u001b[1;32m   2936\u001b[0m         \u001b[0;32melse\u001b[0m\u001b[0;34m:\u001b[0m\u001b[0;34m\u001b[0m\u001b[0;34m\u001b[0m\u001b[0m\n\u001b[0;32m-> 2937\u001b[0;31m             \u001b[0mfetched\u001b[0m \u001b[0;34m=\u001b[0m \u001b[0mself\u001b[0m\u001b[0;34m.\u001b[0m\u001b[0m_callable_fn\u001b[0m\u001b[0;34m(\u001b[0m\u001b[0;34m*\u001b[0m\u001b[0marray_vals\u001b[0m\u001b[0;34m)\u001b[0m\u001b[0;34m\u001b[0m\u001b[0;34m\u001b[0m\u001b[0m\n\u001b[0m\u001b[1;32m   2938\u001b[0m         \u001b[0;32mreturn\u001b[0m \u001b[0mfetched\u001b[0m\u001b[0;34m[\u001b[0m\u001b[0;34m:\u001b[0m\u001b[0mlen\u001b[0m\u001b[0;34m(\u001b[0m\u001b[0mself\u001b[0m\u001b[0;34m.\u001b[0m\u001b[0moutputs\u001b[0m\u001b[0;34m)\u001b[0m\u001b[0;34m]\u001b[0m\u001b[0;34m\u001b[0m\u001b[0;34m\u001b[0m\u001b[0m\n\u001b[1;32m   2939\u001b[0m \u001b[0;34m\u001b[0m\u001b[0m\n",
            "\u001b[0;32m/usr/local/lib/python3.6/dist-packages/tensorflow_core/python/client/session.py\u001b[0m in \u001b[0;36m__call__\u001b[0;34m(self, *args, **kwargs)\u001b[0m\n\u001b[1;32m   1470\u001b[0m         ret = tf_session.TF_SessionRunCallable(self._session._session,\n\u001b[1;32m   1471\u001b[0m                                                \u001b[0mself\u001b[0m\u001b[0;34m.\u001b[0m\u001b[0m_handle\u001b[0m\u001b[0;34m,\u001b[0m \u001b[0margs\u001b[0m\u001b[0;34m,\u001b[0m\u001b[0;34m\u001b[0m\u001b[0;34m\u001b[0m\u001b[0m\n\u001b[0;32m-> 1472\u001b[0;31m                                                run_metadata_ptr)\n\u001b[0m\u001b[1;32m   1473\u001b[0m         \u001b[0;32mif\u001b[0m \u001b[0mrun_metadata\u001b[0m\u001b[0;34m:\u001b[0m\u001b[0;34m\u001b[0m\u001b[0;34m\u001b[0m\u001b[0m\n\u001b[1;32m   1474\u001b[0m           \u001b[0mproto_data\u001b[0m \u001b[0;34m=\u001b[0m \u001b[0mtf_session\u001b[0m\u001b[0;34m.\u001b[0m\u001b[0mTF_GetBuffer\u001b[0m\u001b[0;34m(\u001b[0m\u001b[0mrun_metadata_ptr\u001b[0m\u001b[0;34m)\u001b[0m\u001b[0;34m\u001b[0m\u001b[0;34m\u001b[0m\u001b[0m\n",
            "\u001b[0;31mKeyboardInterrupt\u001b[0m: "
          ]
        }
      ]
    },
    {
      "cell_type": "code",
      "metadata": {
        "id": "UX-icaG-BglZ",
        "colab_type": "code",
        "colab": {}
      },
      "source": [
        "## TEST"
      ],
      "execution_count": 0,
      "outputs": []
    },
    {
      "cell_type": "code",
      "metadata": {
        "id": "7B0XzN6IDZjm",
        "colab_type": "code",
        "colab": {}
      },
      "source": [
        "test, test_labels = load_data('test')"
      ],
      "execution_count": 0,
      "outputs": []
    },
    {
      "cell_type": "code",
      "metadata": {
        "id": "nQ9XwxLzDaSs",
        "colab_type": "code",
        "colab": {}
      },
      "source": [
        "test_texts = []\n",
        "test_paras = []\n",
        "\n",
        "for idx in range(test['review'].shape[0]):\n",
        "    test_text = clean_str(test['review'][idx])\n",
        "    test_texts.append(test_text)\n",
        "    test_sentences = tokenize.sent_tokenize(test_text)\n",
        "    test_paras.append(test_sentences)"
      ],
      "execution_count": 0,
      "outputs": []
    },
    {
      "cell_type": "code",
      "metadata": {
        "id": "riGcw_2wDujh",
        "colab_type": "code",
        "colab": {}
      },
      "source": [
        "test_data = np.zeros((len(test_texts), MAX_SENT_NUM, MAX_SENT_LEN), dtype='int32')\n",
        "for i, sentences in enumerate(test_paras):\n",
        "    for j, sent in enumerate(test_sentences):\n",
        "        if j< MAX_SENT_NUM:\n",
        "            wordTokens = text_to_word_sequence(sent)\n",
        "            test_data[i,j,0] = i\n",
        "            k=1\n",
        "            for _, word in enumerate(wordTokens):\n",
        "                try:\n",
        "                    if k<=MAX_SENT_LEN and tokenizer.word_index[word]<MAX_FEATURES:\n",
        "                        test_data[i,j,k] = tokenizer.word_index[word]\n",
        "                        k=k+1\n",
        "                except:\n",
        "                    # print(word)\n",
        "                    pass"
      ],
      "execution_count": 0,
      "outputs": []
    },
    {
      "cell_type": "code",
      "metadata": {
        "id": "De5NOIIXEWj7",
        "colab_type": "code",
        "outputId": "8bbb1612-5bab-4d07-81c0-6d9626fc7ab3",
        "colab": {
          "base_uri": "https://localhost:8080/",
          "height": 35
        }
      },
      "source": [
        "score = model.evaluate(test_data,test_labels,batch_size=500)"
      ],
      "execution_count": 0,
      "outputs": [
        {
          "output_type": "stream",
          "text": [
            "53766/53766 [==============================] - 47s 877us/step\n"
          ],
          "name": "stdout"
        }
      ]
    },
    {
      "cell_type": "code",
      "metadata": {
        "id": "q60_y-8UFI90",
        "colab_type": "code",
        "outputId": "6dce1ea1-2df1-40cd-dc1a-984584239f0f",
        "colab": {
          "base_uri": "https://localhost:8080/",
          "height": 35
        }
      },
      "source": [
        "print(score)"
      ],
      "execution_count": 0,
      "outputs": [
        {
          "output_type": "stream",
          "text": [
            "[2.4592414857535667, 0.6333370558324147, 0.6331302773290433]\n"
          ],
          "name": "stdout"
        }
      ]
    },
    {
      "cell_type": "code",
      "metadata": {
        "id": "PooTAFf_FRFo",
        "colab_type": "code",
        "colab": {}
      },
      "source": [
        "pred = model.predict(test_data,batch_size=1000)"
      ],
      "execution_count": 0,
      "outputs": []
    },
    {
      "cell_type": "code",
      "metadata": {
        "id": "7xkHjSOhGIOL",
        "colab_type": "code",
        "colab": {}
      },
      "source": [
        "from sklearn.metrics import confusion_matrix\n",
        "pred_labels = np.argmax(pred,axis=1)\n",
        "act_labels = np.argmax(test_labels,axis=1)\n",
        "print(confusion_matrix(act_labels,pred_labels))"
      ],
      "execution_count": 0,
      "outputs": []
    },
    {
      "cell_type": "code",
      "metadata": {
        "id": "zgKRM4AoGnB3",
        "colab_type": "code",
        "colab": {}
      },
      "source": [
        ""
      ],
      "execution_count": 0,
      "outputs": []
    }
  ]
}