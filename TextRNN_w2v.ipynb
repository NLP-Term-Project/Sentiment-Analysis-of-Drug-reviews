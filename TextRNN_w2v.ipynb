{
  "nbformat": 4,
  "nbformat_minor": 0,
  "metadata": {
    "colab": {
      "name": "TextRNN_w2v",
      "provenance": [],
      "collapsed_sections": []
    },
    "kernelspec": {
      "name": "python3",
      "display_name": "Python 3"
    },
    "accelerator": "GPU"
  },
  "cells": [
    {
      "cell_type": "code",
      "metadata": {
        "id": "DzidUQpqj4z5",
        "colab_type": "code",
        "colab": {}
      },
      "source": [
        "!wget -c \"https://s3.amazonaws.com/dl4j-distribution/GoogleNews-vectors-negative300.bin.gz\"\n",
        "!gunzip GoogleNews-vectors-negative300.bin.gz\n",
        "!wget https://archive.ics.uci.edu/ml/machine-learning-databases/00462/drugsCom_raw.zip\n",
        "!unzip drugsCom_raw.zip\n",
        "!rm *.zip\n",
        "!ls"
      ],
      "execution_count": 0,
      "outputs": []
    },
    {
      "cell_type": "code",
      "metadata": {
        "id": "7KkQWMli4T9b",
        "colab_type": "code",
        "colab": {}
      },
      "source": [
        "!mkdir data"
      ],
      "execution_count": 0,
      "outputs": []
    },
    {
      "cell_type": "code",
      "metadata": {
        "id": "47WRDurvor3S",
        "colab_type": "code",
        "colab": {}
      },
      "source": [
        "import numpy as np\n",
        "import pandas as pd\n",
        "import keras\n",
        "from keras.preprocessing.text import Tokenizer,  text_to_word_sequence\n",
        "from keras.layers import Embedding, Input, Dense, LSTM,Bidirectional\n",
        "from keras import backend as K\n",
        "from keras.models import Model\n",
        "import nltk\n",
        "from gensim.models import KeyedVectors\n",
        "nltk.download('stopwords')\n",
        "from sklearn.metrics import accuracy_score, f1_score\n",
        "import re\n",
        "from keras import regularizers\n",
        "import tensorflow as tf\n",
        "from nltk import tokenize\n",
        "from nltk.corpus import stopwords\n",
        "from keras.callbacks import EarlyStopping,ModelCheckpoint\n",
        "from random import shuffle\n",
        "from keras.models import load_model\n",
        "%tensorflow_version 1.x"
      ],
      "execution_count": 0,
      "outputs": []
    },
    {
      "cell_type": "code",
      "metadata": {
        "id": "-THSB8bSoyes",
        "colab_type": "code",
        "colab": {}
      },
      "source": [
        "MAX_FEATURES=200000\n",
        "MAX_SENT_LEN=100\n",
        "EMBED_SIZE=300\n",
        "NUM_EPOCHS=25\n",
        "REG_PARAM = 1e-13\n",
        "OUTPUT_DIM = 3"
      ],
      "execution_count": 0,
      "outputs": []
    },
    {
      "cell_type": "code",
      "metadata": {
        "id": "UY9cx4QhH5HG",
        "colab_type": "code",
        "colab": {}
      },
      "source": [
        "class DataGenerator(keras.utils.Sequence):\n",
        "    'Generates data for Keras'\n",
        "    def __init__(self, list_IDs, labels, batch_size=32, dim=(32,32,32),\n",
        "                 n_classes=3, shuffle=True):\n",
        "        'Initialization'\n",
        "        self.dim = dim\n",
        "        self.batch_size = batch_size\n",
        "        self.labels = labels\n",
        "        self.list_IDs = list_IDs\n",
        "        self.n_classes = n_classes\n",
        "        self.shuffle = shuffle\n",
        "        self.on_epoch_end()\n",
        "\n",
        "    def __len__(self):\n",
        "        'Denotes the number of batches per epoch'\n",
        "        return int(np.floor(len(self.list_IDs) / self.batch_size))\n",
        "\n",
        "    def __getitem__(self, index):\n",
        "        'Generate one batch of data'\n",
        "        # Generate indexes of the batch\n",
        "        indexes = self.indexes[index*self.batch_size:(index+1)*self.batch_size]\n",
        "\n",
        "        # Find list of IDs\n",
        "        list_IDs_temp = [self.list_IDs[k] for k in indexes]\n",
        "\n",
        "        # Generate data\n",
        "        X, y = self.__data_generation(list_IDs_temp)\n",
        "\n",
        "        return X, y\n",
        "\n",
        "    def on_epoch_end(self):\n",
        "        'Updates indexes after each epoch'\n",
        "        self.indexes = np.arange(len(self.list_IDs))\n",
        "        if self.shuffle == True:\n",
        "            np.random.shuffle(self.indexes)\n",
        "\n",
        "    def __data_generation(self, list_IDs_temp):\n",
        "        'Generates data containing batch_size samples' # X : (n_samples, *dim)\n",
        "        # Initialization\n",
        "        X = np.empty((self.batch_size, *self.dim))\n",
        "        y = np.empty((self.batch_size), dtype=int)\n",
        "\n",
        "        # Generate data\n",
        "        for i, ID in enumerate(list_IDs_temp):\n",
        "            # Store sample\n",
        "            X[i,] = np.load('data/out' + str(ID) + '.npy').reshape(MAX_SENT_NUM,MAX_SENT_LEN)\n",
        "\n",
        "            # Store class\n",
        "            y[i] = self.labels[ID]\n",
        "\n",
        "        return X, keras.utils.to_categorical(y, num_classes=self.n_classes)"
      ],
      "execution_count": 0,
      "outputs": []
    },
    {
      "cell_type": "code",
      "metadata": {
        "id": "3yyT1Axjo4NH",
        "colab_type": "code",
        "colab": {}
      },
      "source": [
        "import gensim\n",
        "\n",
        "def embed_matrix(word_index):\n",
        "  model = gensim.models.KeyedVectors.load_word2vec_format('./GoogleNews-vectors-negative300.bin', binary=True)  \n",
        "  embedding_matrix = np.zeros((len(word_index) + 1, EMBED_SIZE))\n",
        "  absent_words = 0\n",
        "  for word,i in word_index.items():\n",
        "    if word in model.wv:\n",
        "      embedding_matrix[i] = model.wv[word]\n",
        "    else:\n",
        "      absent_words += 1\n",
        "  print('Total absent words are',absent_words,'which is', \"%0.2f\" % (absent_words * 100 / len(word_index)), '% of total words')\n",
        "  return embedding_matrix\n"
      ],
      "execution_count": 0,
      "outputs": []
    },
    {
      "cell_type": "code",
      "metadata": {
        "id": "LVt2E1Zmo_kZ",
        "colab_type": "code",
        "colab": {}
      },
      "source": [
        "def load_data(mode='train'):\n",
        "    if mode=='train':\n",
        "        df = pd.read_csv('drugsComTrain_raw.tsv',sep='\\t')\n",
        "        to_remove = np.random.choice(df[df['rating']>=7].index,size=92510,replace=False)\n",
        "        df = df.drop(to_remove).reset_index()\n",
        "        to_remove = np.random.choice(df[df['rating']<=4].index,size=25719,replace=False)\n",
        "        df = df.drop(to_remove).reset_index()\n",
        "        if OUTPUT_DIM==3:\n",
        "          df = df.replace(to_replace={1:'negative',2:'negative',3:'negative',4:'negative',5:'neutral',6:'neutral',7:'positive',8:'positive',9:'positive',10:'positive'})\n",
        "          df = df.replace(to_replace={'positive':2,'neutral':1,'negative':0})\n",
        "        return pd.DataFrame(df['review']),df['rating'].to_numpy()\n",
        "    if mode=='test':\n",
        "        df = pd.read_csv('drugsComTest_raw.tsv', sep='\\t')\n",
        "        if OUTPUT_DIM==3:\n",
        "          df = df.replace(to_replace={1:'negative',2:'negative',3:'negative',4:'negative',5:'neutral',6:'neutral',7:'positive',8:'positive',9:'positive',10:'positive'})\n",
        "          df = df.replace(to_replace={'positive':2,'neutral':1,'negative':0})\n",
        "        return pd.DataFrame(df['review']), pd.get_dummies(df['rating']).to_numpy()"
      ],
      "execution_count": 0,
      "outputs": []
    },
    {
      "cell_type": "code",
      "metadata": {
        "id": "KgifMn04pP2S",
        "colab_type": "code",
        "colab": {}
      },
      "source": [
        "def clean_str(string):\n",
        "    \"\"\"\n",
        "    Tokenization/string cleaning for dataset\n",
        "    Every dataset is lower cased except\n",
        "    \"\"\"\n",
        "    # st_w = set(stopwords.words('english'))\n",
        "     # st_w = set(stopwords.words('english'))\n",
        "    # st_w = ['ourselves', 'hers', 'between', 'yourself', 'again', 'there', 'about', 'once', 'during', 'out',\n",
        "    #         'having', 'with', 'they', 'own', 'an', 'be', 'some', 'for','its', 'yours', 'such', 'into', 'of', \n",
        "    #         'itself', 'other', 'is', 's', 'am', 'or', 'who', 'as', 'from', 'him', 'each', 'the', 'themselves', 'until', \n",
        "    #         'below',  'we', 'these', 'your', 'his', 'through', 'me', 'were', 'her',  'himself', \n",
        "    #         'this', 'down',  'our', 'their', 'while', 'above', 'both', 'up', 'to', 'ours', 'she', 'all', \n",
        "    #          'when', 'at', 'any', 'before', 'them', 'same', 'and', 'been', 'have', 'in', 'will', 'on',  \n",
        "    #         'yourselves', 'then', 'that', 'what', 'over', 'why', 'so', 'now', 'under', \n",
        "    #         'he', 'you', 'herself', 'just', 'where', 'too', 'only', 'myself', 'which', 'those', 'i', 'after', \n",
        "    #         'few', 'whom', 'being', 'if', 'theirs', 'my',  'a', 'by', 'doing', 'it', 'how',  'here', 'than']\n",
        "    st_w = ['is','a','an','the','am']\n",
        "    try:\n",
        "        string = re.sub(r\"\\\\\", \"\", string)    \n",
        "        string = re.sub(r\"\\'\", \"\", string)    \n",
        "        string = re.sub(r\"\\\"\", \"\", string) \n",
        "        string = re.sub(r\"&#039;\", \"'\",string)\n",
        "        string = re.sub(r\"\\r\",\"\",string)\n",
        "        string = re.sub(r\"\\n\",\"\",string)\n",
        "#         for word in st_w:\n",
        "#             string = re.sub(word,\"\",string)\n",
        "        string = string.split()\n",
        "        string = ' '.join([w for w in string if w not in st_w])\n",
        "    except:\n",
        "        print(string)\n",
        "    return string.strip().lower()"
      ],
      "execution_count": 0,
      "outputs": []
    },
    {
      "cell_type": "code",
      "metadata": {
        "id": "KNI-aRYEpRgT",
        "colab_type": "code",
        "colab": {}
      },
      "source": [
        "texts = []\n",
        "train,labels = load_data('train')\n",
        "for idx in range(train['review'].shape[0]):\n",
        "    text = clean_str(train['review'][idx])\n",
        "    texts.append(text)"
      ],
      "execution_count": 0,
      "outputs": []
    },
    {
      "cell_type": "code",
      "metadata": {
        "id": "rDYZyqZwpTCp",
        "colab_type": "code",
        "colab": {}
      },
      "source": [
        "tokenizer = Tokenizer(num_words=MAX_FEATURES, oov_token=True)\n",
        "tokenizer.fit_on_texts(texts)"
      ],
      "execution_count": 0,
      "outputs": []
    },
    {
      "cell_type": "code",
      "metadata": {
        "id": "HjXioAxDpcec",
        "colab_type": "code",
        "colab": {}
      },
      "source": [
        "data = np.zeros((len(texts), MAX_SENT_LEN), dtype='int32')\n",
        "for i, sent in enumerate(texts):\n",
        "    wordTokens = text_to_word_sequence(sent)\n",
        "    k=0\n",
        "    for _, word in enumerate(wordTokens):\n",
        "        try:\n",
        "          if k<MAX_SENT_LEN:\n",
        "              data[i,k] = tokenizer.word_index[word]\n",
        "              k=k+1\n",
        "        except:\n",
        "              print(word)\n",
        "              pass\n",
        "for i in range(len(data)):\n",
        "  np.save(\"data/out\"+str(i),data[i])              "
      ],
      "execution_count": 0,
      "outputs": []
    },
    {
      "cell_type": "code",
      "metadata": {
        "id": "xaJZgQklph9_",
        "colab_type": "code",
        "colab": {}
      },
      "source": [
        "l2_reg = regularizers.l2(REG_PARAM)\n",
        "word_index= tokenizer.word_index\n",
        "embedding_matrix = embed_matrix(tokenizer.word_index)\n",
        "embedding_layer = Embedding(len(word_index) + 1,EMBED_SIZE,weights=[embedding_matrix], input_length=MAX_SENT_LEN, trainable=False)\n",
        "word_input = Input(shape=(MAX_SENT_LEN,), dtype='float32')\n",
        "word_sequences = embedding_layer(word_input)\n",
        "word_lstm = Bidirectional(LSTM(150, return_sequences=False, kernel_regularizer=l2_reg))(word_sequences)\n",
        "preds = Dense(OUTPUT_DIM,activation='softmax')(word_lstm)"
      ],
      "execution_count": 0,
      "outputs": []
    },
    {
      "cell_type": "code",
      "metadata": {
        "id": "0HaLmlewpj7e",
        "colab_type": "code",
        "colab": {}
      },
      "source": [
        "model = Model(word_input,preds)\n",
        "model.compile(loss='categorical_crossentropy',optimizer='adam',metrics=['acc'])\n",
        "earlystop = EarlyStopping(monitor='val_loss',min_delta=0,patience=50,verbose=0,restore_best_weights=True)\n",
        "checkpoint = ModelCheckpoint('textrnn.h5', verbose=0, monitor='val_loss',save_best_only=True, mode='auto') \n",
        "data_labels = list(zip(data,labels))\n",
        "shuffle(data_labels)\n",
        "data,labels = zip(*data_labels)\n",
        "data = np.array(data)\n",
        "labels = np.array(labels)\n",
        "history = model.fit(data[1000:5000],labels[1000:5000],validation_data=(data[:1000],labels[:1000]),epochs=20, batch_size=500)#,callbacks=[earlystop,checkpoint]"
      ],
      "execution_count": 0,
      "outputs": []
    },
    {
      "cell_type": "code",
      "metadata": {
        "id": "_duH9aH4sFtE",
        "colab_type": "code",
        "colab": {}
      },
      "source": [
        "test, test_labels = load_data('test')"
      ],
      "execution_count": 0,
      "outputs": []
    },
    {
      "cell_type": "code",
      "metadata": {
        "id": "CbYv3iRfZqgV",
        "colab_type": "code",
        "colab": {}
      },
      "source": [
        "test_texts=[]\n",
        "for idx in range(test['review'].shape[0]):\n",
        "    text = clean_str(test['review'][idx])\n",
        "    test_texts.append(text)\n",
        "\n",
        "test_data = np.zeros((len(test_texts), MAX_SENT_LEN), dtype='int32')\n",
        "for i, sent in enumerate(test_texts):\n",
        "    wordTokens = text_to_word_sequence(sent)\n",
        "    k=0\n",
        "    for _, word in enumerate(wordTokens):\n",
        "        try:\n",
        "            if k<MAX_SENT_LEN:\n",
        "                test_data[i,k] = tokenizer.word_index[word]\n",
        "                k=k+1\n",
        "        except:\n",
        "            # print(word)\n",
        "            pass"
      ],
      "execution_count": 0,
      "outputs": []
    },
    {
      "cell_type": "code",
      "metadata": {
        "id": "BGC4Wz9pZ1pn",
        "colab_type": "code",
        "colab": {}
      },
      "source": [
        "pred = model.predict(test_data,batch_size=1000)"
      ],
      "execution_count": 0,
      "outputs": []
    },
    {
      "cell_type": "code",
      "metadata": {
        "id": "bZoeVTjP2YuS",
        "colab_type": "code",
        "colab": {}
      },
      "source": [
        "from sklearn.metrics import confusion_matrix,accuracy_score,f1_score\n",
        "pred_labels = np.argmax(pred,axis=1)\n",
        "act_labels = np.argmax(test_labels,axis=1)\n",
        "print('acc: ' ,accuracy_score(act_labels,pred_labels))\n",
        "print('f1: ',f1_score(act_labels,pred_labels,average='macro'))\n",
        "print(confusion_matrix(act_labels,pred_labels))"
      ],
      "execution_count": 0,
      "outputs": []
    }
  ]
}